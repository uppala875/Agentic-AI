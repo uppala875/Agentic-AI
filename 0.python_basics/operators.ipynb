{
 "cells": [
  {
   "cell_type": "markdown",
   "id": "3658dca5-1b27-45c2-8a6f-51da70616bf1",
   "metadata": {},
   "source": [
    "## Arithemetic operations(+,-,*,/,//,%,**)"
   ]
  },
  {
   "cell_type": "code",
   "execution_count": 1,
   "id": "87412323-d356-495d-9ee5-80ccf00cefd9",
   "metadata": {},
   "outputs": [
    {
     "data": {
      "text/plain": [
       "30"
      ]
     },
     "execution_count": 1,
     "metadata": {},
     "output_type": "execute_result"
    }
   ],
   "source": [
    "## Arithemetic operationz\n",
    "\n",
    "a=10\n",
    "b=20\n",
    "a+b\n"
   ]
  },
  {
   "cell_type": "code",
   "execution_count": 2,
   "id": "00227779-e33a-4094-857a-79d201f22ac3",
   "metadata": {},
   "outputs": [
    {
     "data": {
      "text/plain": [
       "10"
      ]
     },
     "execution_count": 2,
     "metadata": {},
     "output_type": "execute_result"
    }
   ],
   "source": [
    "b-a\n"
   ]
  },
  {
   "cell_type": "code",
   "execution_count": 3,
   "id": "03398dfb-5774-4739-8c3a-35f9f9655c0a",
   "metadata": {},
   "outputs": [
    {
     "data": {
      "text/plain": [
       "2.0"
      ]
     },
     "execution_count": 3,
     "metadata": {},
     "output_type": "execute_result"
    }
   ],
   "source": [
    "b/a"
   ]
  },
  {
   "cell_type": "code",
   "execution_count": 4,
   "id": "63a83705-bfaf-4510-bdc4-7626e5213387",
   "metadata": {},
   "outputs": [
    {
     "data": {
      "text/plain": [
       "2"
      ]
     },
     "execution_count": 4,
     "metadata": {},
     "output_type": "execute_result"
    }
   ],
   "source": [
    "b//a\n"
   ]
  },
  {
   "cell_type": "code",
   "execution_count": 5,
   "id": "f8511d9f-28c7-4e57-bc2a-45e21ddf9f52",
   "metadata": {},
   "outputs": [
    {
     "data": {
      "text/plain": [
       "0"
      ]
     },
     "execution_count": 5,
     "metadata": {},
     "output_type": "execute_result"
    }
   ],
   "source": [
    "b%a"
   ]
  },
  {
   "cell_type": "code",
   "execution_count": 6,
   "id": "1a5012f5-b597-4cef-bded-6a9e2c39731c",
   "metadata": {},
   "outputs": [
    {
     "data": {
      "text/plain": [
       "10"
      ]
     },
     "execution_count": 6,
     "metadata": {},
     "output_type": "execute_result"
    }
   ],
   "source": [
    "a%b"
   ]
  },
  {
   "cell_type": "code",
   "execution_count": 7,
   "id": "153b2edc-ae74-49ce-bc05-6880899ed6c2",
   "metadata": {},
   "outputs": [
    {
     "data": {
      "text/plain": [
       "100000000000000000000"
      ]
     },
     "execution_count": 7,
     "metadata": {},
     "output_type": "execute_result"
    }
   ],
   "source": [
    "a**b #10 power 20"
   ]
  },
  {
   "cell_type": "markdown",
   "id": "348bf254-03ec-4afe-a30e-b330cd6dc0b5",
   "metadata": {},
   "source": [
    "##Bitwise Operators\n"
   ]
  },
  {
   "cell_type": "markdown",
   "id": "104ed0cd-1e54-4b4c-8eb1-8a58e9433f79",
   "metadata": {},
   "source": [
    "##1)Complement opereator (~)"
   ]
  },
  {
   "cell_type": "code",
   "execution_count": 8,
   "id": "2b0a4672-3b89-43ae-b832-360e79d5639d",
   "metadata": {},
   "outputs": [
    {
     "data": {
      "text/plain": [
       "-101"
      ]
     },
     "execution_count": 8,
     "metadata": {},
     "output_type": "execute_result"
    }
   ],
   "source": [
    "a=100\n",
    "~a  #gives -(next numbe)\n"
   ]
  },
  {
   "cell_type": "code",
   "execution_count": null,
   "id": "4fdb2dfd-bf42-42ac-8574-79406d57d629",
   "metadata": {},
   "outputs": [],
   "source": [
    "#And operator ,#or operator,"
   ]
  }
 ],
 "metadata": {
  "kernelspec": {
   "display_name": "Python 3 (ipykernel)",
   "language": "python",
   "name": "python3"
  },
  "language_info": {
   "codemirror_mode": {
    "name": "ipython",
    "version": 3
   },
   "file_extension": ".py",
   "mimetype": "text/x-python",
   "name": "python",
   "nbconvert_exporter": "python",
   "pygments_lexer": "ipython3",
   "version": "3.13.5"
  }
 },
 "nbformat": 4,
 "nbformat_minor": 5
}

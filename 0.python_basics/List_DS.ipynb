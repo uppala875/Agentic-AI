{
 "cells": [
  {
   "cell_type": "code",
   "execution_count": 1,
   "id": "77962139-23a5-4b7e-9c18-bc726d83cf9c",
   "metadata": {},
   "outputs": [
    {
     "data": {
      "text/plain": [
       "[]"
      ]
     },
     "execution_count": 1,
     "metadata": {},
     "output_type": "execute_result"
    }
   ],
   "source": [
    "l=[]  # declaring empty string l\n",
    "l"
   ]
  },
  {
   "cell_type": "code",
   "execution_count": 2,
   "id": "df4c7e6b-302d-4c13-94fd-bfb9d11586e5",
   "metadata": {},
   "outputs": [
    {
     "data": {
      "text/plain": [
       "0"
      ]
     },
     "execution_count": 2,
     "metadata": {},
     "output_type": "execute_result"
    }
   ],
   "source": [
    "len(l)"
   ]
  },
  {
   "cell_type": "code",
   "execution_count": 3,
   "id": "cbc9a11e-fbec-4384-800f-008072c00c4c",
   "metadata": {},
   "outputs": [
    {
     "data": {
      "text/plain": [
       "list"
      ]
     },
     "execution_count": 3,
     "metadata": {},
     "output_type": "execute_result"
    }
   ],
   "source": [
    "type(l)"
   ]
  },
  {
   "cell_type": "code",
   "execution_count": 4,
   "id": "506b3d53-cb41-484e-8a05-7573c408265b",
   "metadata": {},
   "outputs": [
    {
     "ename": "TypeError",
     "evalue": "list.append() takes exactly one argument (0 given)",
     "output_type": "error",
     "traceback": [
      "\u001b[1;31m---------------------------------------------------------------------------\u001b[0m",
      "\u001b[1;31mTypeError\u001b[0m                                 Traceback (most recent call last)",
      "Cell \u001b[1;32mIn[4], line 1\u001b[0m\n\u001b[1;32m----> 1\u001b[0m l\u001b[38;5;241m.\u001b[39mappend()\n",
      "\u001b[1;31mTypeError\u001b[0m: list.append() takes exactly one argument (0 given)"
     ]
    }
   ],
   "source": [
    "l.append()"
   ]
  },
  {
   "cell_type": "code",
   "execution_count": null,
   "id": "ef31f6be-2677-4c7d-b80e-1f1ddb2f971b",
   "metadata": {},
   "outputs": [],
   "source": [
    "l.append(20)"
   ]
  },
  {
   "cell_type": "code",
   "execution_count": null,
   "id": "37ed1d4e-dedb-4a7c-ac98-425fcb9ed3e9",
   "metadata": {},
   "outputs": [],
   "source": [
    "l\n"
   ]
  },
  {
   "cell_type": "code",
   "execution_count": null,
   "id": "de6709a6-4f48-4ec3-be43-4feae7cd6532",
   "metadata": {},
   "outputs": [],
   "source": [
    "l.append(40)\n",
    "l.append(60)\n",
    "l.append(80)\n",
    "l"
   ]
  },
  {
   "cell_type": "code",
   "execution_count": null,
   "id": "b77e6f46-fd7f-49b4-9552-06643312771e",
   "metadata": {},
   "outputs": [],
   "source": [
    "l.append(100)"
   ]
  },
  {
   "cell_type": "code",
   "execution_count": null,
   "id": "fee6754f-f5c5-4631-9872-b2db888ea65a",
   "metadata": {},
   "outputs": [],
   "source": [
    "l"
   ]
  },
  {
   "cell_type": "code",
   "execution_count": null,
   "id": "9b53f388-f4f0-4548-a006-ae81cf3fa6a2",
   "metadata": {},
   "outputs": [],
   "source": [
    "list_all_var=[10,5.55,'Test List',True,5+6j]\n",
    "list_all_var\n",
    "              "
   ]
  },
  {
   "cell_type": "code",
   "execution_count": null,
   "id": "ef60c8f2-f9fd-43ff-82f0-efb1e42c8970",
   "metadata": {},
   "outputs": [],
   "source": [
    "lis1=l.copy()\n",
    "list1"
   ]
  },
  {
   "cell_type": "code",
   "execution_count": 8,
   "id": "ba44466c-762c-438c-bd9f-a2ffb8f26078",
   "metadata": {},
   "outputs": [
    {
     "data": {
      "text/plain": [
       "[]"
      ]
     },
     "execution_count": 8,
     "metadata": {},
     "output_type": "execute_result"
    }
   ],
   "source": [
    "list1= l.copy()\n",
    "list1"
   ]
  },
  {
   "cell_type": "code",
   "execution_count": null,
   "id": "912330a6-ab23-4135-9e57-e477462d6cb1",
   "metadata": {},
   "outputs": [],
   "source": [
    "list2 = list_all_var.copy()\n",
    "list2"
   ]
  },
  {
   "cell_type": "code",
   "execution_count": null,
   "id": "4be3f05c-2165-494d-9693-c98b6adcd16a",
   "metadata": {},
   "outputs": [],
   "source": []
  },
  {
   "cell_type": "code",
   "execution_count": null,
   "id": "d444b84e-e979-471c-95ab-5e56d57af716",
   "metadata": {},
   "outputs": [],
   "source": [
    "l==list1"
   ]
  },
  {
   "cell_type": "code",
   "execution_count": null,
   "id": "a94de76f-09f3-45e5-8764-946316046136",
   "metadata": {},
   "outputs": [],
   "source": [
    "list1==list2"
   ]
  },
  {
   "cell_type": "code",
   "execution_count": null,
   "id": "f6407fa9-f5c6-44ce-9910-92f1a8737c00",
   "metadata": {},
   "outputs": [],
   "source": [
    "l!=list1"
   ]
  },
  {
   "cell_type": "code",
   "execution_count": null,
   "id": "a84cd14a-48c0-4f5b-a0f6-f612a251c01c",
   "metadata": {},
   "outputs": [],
   "source": [
    "list1!=list2"
   ]
  },
  {
   "cell_type": "code",
   "execution_count": null,
   "id": "b1975810-c679-486d-9ed4-a3f7ffcd49dc",
   "metadata": {},
   "outputs": [],
   "source": [
    "list1"
   ]
  },
  {
   "cell_type": "code",
   "execution_count": null,
   "id": "ea57090a-5a81-46f2-b7b8-609ee7513bd0",
   "metadata": {},
   "outputs": [],
   "source": [
    "list1[:]"
   ]
  },
  {
   "cell_type": "code",
   "execution_count": null,
   "id": "92776d29-fa5a-4abd-831b-8afec80fbb3b",
   "metadata": {},
   "outputs": [],
   "source": [
    "list1[1]"
   ]
  },
  {
   "cell_type": "code",
   "execution_count": null,
   "id": "4dac38bf-9d3b-4697-a93b-a99c7039037c",
   "metadata": {},
   "outputs": [],
   "source": [
    "list1[-1]"
   ]
  },
  {
   "cell_type": "code",
   "execution_count": null,
   "id": "e9df423b-6ace-45d6-8172-2fd4d656ed87",
   "metadata": {},
   "outputs": [],
   "source": [
    "list1[-2]"
   ]
  },
  {
   "cell_type": "code",
   "execution_count": null,
   "id": "dad8712e-d19e-4ada-a556-a9ff55f6048e",
   "metadata": {},
   "outputs": [],
   "source": [
    "list1[5]"
   ]
  },
  {
   "cell_type": "code",
   "execution_count": null,
   "id": "beb42cbb-d414-4898-9bc6-3a09236b3cf4",
   "metadata": {},
   "outputs": [],
   "source": [
    "l[0]"
   ]
  },
  {
   "cell_type": "code",
   "execution_count": null,
   "id": "7678b02d-dcfe-4241-81ea-86d88c4193bf",
   "metadata": {},
   "outputs": [],
   "source": [
    "list1[0]=200\n",
    "list1\n"
   ]
  },
  {
   "cell_type": "code",
   "execution_count": 7,
   "id": "3235031b-dbbf-4304-99ed-5fb53ec320a7",
   "metadata": {},
   "outputs": [
    {
     "ename": "NameError",
     "evalue": "name 'list1' is not defined",
     "output_type": "error",
     "traceback": [
      "\u001b[1;31m---------------------------------------------------------------------------\u001b[0m",
      "\u001b[1;31mNameError\u001b[0m                                 Traceback (most recent call last)",
      "Cell \u001b[1;32mIn[7], line 1\u001b[0m\n\u001b[1;32m----> 1\u001b[0m list1[\u001b[38;5;241m-\u001b[39m\u001b[38;5;241m1\u001b[39m]\u001b[38;5;241m=\u001b[39m\u001b[38;5;124m'\u001b[39m\u001b[38;5;124mJAN\u001b[39m\u001b[38;5;124m'\u001b[39m\n\u001b[0;32m      2\u001b[0m list1[\u001b[38;5;241m-\u001b[39m\u001b[38;5;241m2\u001b[39m]\u001b[38;5;241m=\u001b[39m\u001b[38;5;124m'\u001b[39m\u001b[38;5;124mFEB\u001b[39m\u001b[38;5;124m'\u001b[39m\n\u001b[0;32m      3\u001b[0m list1\n",
      "\u001b[1;31mNameError\u001b[0m: name 'list1' is not defined"
     ]
    }
   ],
   "source": [
    "list1[-1]='JAN'\n",
    "list1[-2]='FEB'\n",
    "list1"
   ]
  },
  {
   "cell_type": "code",
   "execution_count": null,
   "id": "e64f7d05-7377-4f38-aaf6-8f1f7e82f028",
   "metadata": {},
   "outputs": [],
   "source": [
    "len(list1)"
   ]
  },
  {
   "cell_type": "code",
   "execution_count": null,
   "id": "ad5e6543-e8ca-4f8d-b2e7-3edf93885f64",
   "metadata": {},
   "outputs": [],
   "source": [
    "list1.count(60)\n"
   ]
  },
  {
   "cell_type": "code",
   "execution_count": 6,
   "id": "2dab67d6-4de3-4c28-97df-bc38c2c4099a",
   "metadata": {},
   "outputs": [
    {
     "ename": "NameError",
     "evalue": "name 'list1' is not defined",
     "output_type": "error",
     "traceback": [
      "\u001b[1;31m---------------------------------------------------------------------------\u001b[0m",
      "\u001b[1;31mNameError\u001b[0m                                 Traceback (most recent call last)",
      "Cell \u001b[1;32mIn[6], line 1\u001b[0m\n\u001b[1;32m----> 1\u001b[0m l\u001b[38;5;241m.\u001b[39mextend(list1)\n",
      "\u001b[1;31mNameError\u001b[0m: name 'list1' is not defined"
     ]
    }
   ],
   "source": [
    "l.extend(list1)"
   ]
  },
  {
   "cell_type": "code",
   "execution_count": 10,
   "id": "0756d886-c4b6-4455-80fa-b82e2bdea5ed",
   "metadata": {},
   "outputs": [
    {
     "data": {
      "text/plain": [
       "[100, 20, 30, 40, 'jan', 'feb', 40]"
      ]
     },
     "execution_count": 10,
     "metadata": {},
     "output_type": "execute_result"
    }
   ],
   "source": [
    "l2=[100, 20, 30, 40, 'jan', 'feb', 40]\n",
    "l2"
   ]
  },
  {
   "cell_type": "code",
   "execution_count": 11,
   "id": "b93b9746-f725-404f-8842-0346c7803628",
   "metadata": {},
   "outputs": [
    {
     "data": {
      "text/plain": [
       "[10, 20, 30, 40, 50, 60, 70]"
      ]
     },
     "execution_count": 11,
     "metadata": {},
     "output_type": "execute_result"
    }
   ],
   "source": [
    "l1=[10,20,30,40,50,60,70]\n",
    "l1"
   ]
  },
  {
   "cell_type": "code",
   "execution_count": 12,
   "id": "978b85b8-8dab-4d3d-bf43-1c44bc0d4c9d",
   "metadata": {},
   "outputs": [
    {
     "data": {
      "text/plain": [
       "[100, 20, 30, 40, 'jan', 'feb', 40, 10, 20, 30, 40, 50, 60, 70]"
      ]
     },
     "execution_count": 12,
     "metadata": {},
     "output_type": "execute_result"
    }
   ],
   "source": [
    "l2.extend(l1)\n",
    "l2"
   ]
  },
  {
   "cell_type": "code",
   "execution_count": 13,
   "id": "7957d27f-7c72-4633-95aa-ac73e083b90d",
   "metadata": {},
   "outputs": [
    {
     "data": {
      "text/plain": [
       "3"
      ]
     },
     "execution_count": 13,
     "metadata": {},
     "output_type": "execute_result"
    }
   ],
   "source": [
    "l2.count(40)"
   ]
  },
  {
   "cell_type": "code",
   "execution_count": 14,
   "id": "fd5bfdfc-c285-4231-b856-a86002be61dc",
   "metadata": {},
   "outputs": [
    {
     "data": {
      "text/plain": [
       "14"
      ]
     },
     "execution_count": 14,
     "metadata": {},
     "output_type": "execute_result"
    }
   ],
   "source": [
    "len(l2)"
   ]
  },
  {
   "cell_type": "code",
   "execution_count": 16,
   "id": "a1fd232b-53f0-423b-bb87-490ab9e3a806",
   "metadata": {},
   "outputs": [
    {
     "name": "stderr",
     "output_type": "stream",
     "text": [
      "<>:1: SyntaxWarning: invalid decimal literal\n",
      "<>:1: SyntaxWarning: invalid decimal literal\n",
      "C:\\Users\\RameshSwathi\\AppData\\Local\\Temp\\ipykernel_2908\\3900903461.py:1: SyntaxWarning: invalid decimal literal\n",
      "  12.index('feb')\n"
     ]
    },
    {
     "ename": "SyntaxError",
     "evalue": "invalid syntax (3900903461.py, line 1)",
     "output_type": "error",
     "traceback": [
      "\u001b[1;36m  Cell \u001b[1;32mIn[16], line 1\u001b[1;36m\u001b[0m\n\u001b[1;33m    12.index('feb')\u001b[0m\n\u001b[1;37m       ^\u001b[0m\n\u001b[1;31mSyntaxError\u001b[0m\u001b[1;31m:\u001b[0m invalid syntax\n"
     ]
    }
   ],
   "source": [
    "12.index('feb')"
   ]
  },
  {
   "cell_type": "code",
   "execution_count": 18,
   "id": "27f19234-640b-47dd-b39a-8d19e58e2238",
   "metadata": {},
   "outputs": [
    {
     "data": {
      "text/plain": [
       "3"
      ]
     },
     "execution_count": 18,
     "metadata": {},
     "output_type": "execute_result"
    }
   ],
   "source": [
    "l2.index(40) #only giving first value index when duplicates there"
   ]
  },
  {
   "cell_type": "code",
   "execution_count": 19,
   "id": "42542fe9-1172-4f7c-b93b-fc4390d1e520",
   "metadata": {},
   "outputs": [
    {
     "data": {
      "text/plain": [
       "[100, 20, 30, 40, 'jan', 'feb']"
      ]
     },
     "execution_count": 19,
     "metadata": {},
     "output_type": "execute_result"
    }
   ],
   "source": [
    "l2[0:6]"
   ]
  },
  {
   "cell_type": "code",
   "execution_count": 20,
   "id": "b5ad40f4-11fa-4c29-b1e3-dae2c211fa3f",
   "metadata": {},
   "outputs": [
    {
     "data": {
      "text/plain": [
       "[40, 'jan', 'feb', 40, 10, 20, 30]"
      ]
     },
     "execution_count": 20,
     "metadata": {},
     "output_type": "execute_result"
    }
   ],
   "source": [
    "l2[3:10]"
   ]
  },
  {
   "cell_type": "code",
   "execution_count": null,
   "id": "24a60c2d-4034-452d-931e-64f8b656a406",
   "metadata": {},
   "outputs": [],
   "source": []
  },
  {
   "cell_type": "code",
   "execution_count": 21,
   "id": "cf4521fd-55b2-42a1-b0b9-5e4bc5af5dc0",
   "metadata": {},
   "outputs": [
    {
     "data": {
      "text/plain": [
       "[100, 40, 40, 30, 60]"
      ]
     },
     "execution_count": 21,
     "metadata": {},
     "output_type": "execute_result"
    }
   ],
   "source": [
    "l2[::3]"
   ]
  },
  {
   "cell_type": "code",
   "execution_count": 22,
   "id": "42e33308-5457-4e9a-9ae0-fa089636e9c0",
   "metadata": {},
   "outputs": [
    {
     "data": {
      "text/plain": [
       "[100, 'feb', 40]"
      ]
     },
     "execution_count": 22,
     "metadata": {},
     "output_type": "execute_result"
    }
   ],
   "source": [
    "l2[::5]   #[100, 20, 30, 40, 'jan', 'feb', 40, 10, 20, 30, 40, 50, 60, 70]"
   ]
  },
  {
   "cell_type": "markdown",
   "id": "e2d0792d-5403-4407-8c9a-6e28ad7cc91f",
   "metadata": {},
   "source": [
    "backwaard indexing & backward slicing\n"
   ]
  },
  {
   "cell_type": "code",
   "execution_count": 23,
   "id": "d3c6d4ba-c3da-4bcb-b675-bfaef459f71a",
   "metadata": {},
   "outputs": [
    {
     "data": {
      "text/plain": [
       "30"
      ]
     },
     "execution_count": 23,
     "metadata": {},
     "output_type": "execute_result"
    }
   ],
   "source": [
    "l2[-5]"
   ]
  },
  {
   "cell_type": "code",
   "execution_count": 24,
   "id": "58368609-7951-4fae-975e-4a3585613ecb",
   "metadata": {},
   "outputs": [
    {
     "data": {
      "text/plain": [
       "[50, 60, 70]"
      ]
     },
     "execution_count": 24,
     "metadata": {},
     "output_type": "execute_result"
    }
   ],
   "source": [
    "l2[-3:] #here will print from -3 to end of the string"
   ]
  },
  {
   "cell_type": "code",
   "execution_count": 25,
   "id": "1828626e-53e6-4571-a481-c6bc10dda36b",
   "metadata": {},
   "outputs": [
    {
     "data": {
      "text/plain": [
       "[40, 'jan', 'feb', 40, 10, 20, 30, 40]"
      ]
     },
     "execution_count": 25,
     "metadata": {},
     "output_type": "execute_result"
    }
   ],
   "source": [
    "l2[3:-3]"
   ]
  },
  {
   "cell_type": "code",
   "execution_count": 26,
   "id": "7273e97c-2cd6-4985-8536-310a9da4eee5",
   "metadata": {},
   "outputs": [
    {
     "data": {
      "text/plain": [
       "[70, 40, 10, 'jan', 20]"
      ]
     },
     "execution_count": 26,
     "metadata": {},
     "output_type": "execute_result"
    }
   ],
   "source": [
    "l2[::-3]"
   ]
  },
  {
   "cell_type": "code",
   "execution_count": 27,
   "id": "4dd7a488-8400-44f1-9e49-4f0b12f5ae84",
   "metadata": {},
   "outputs": [],
   "source": [
    "l1.remove(40) # removes first occurance of 40"
   ]
  },
  {
   "cell_type": "code",
   "execution_count": 28,
   "id": "8c34b1d4-5cae-43d4-ad0f-802e6effc3ff",
   "metadata": {},
   "outputs": [
    {
     "data": {
      "text/plain": [
       "[10, 20, 30, 50, 60, 70]"
      ]
     },
     "execution_count": 28,
     "metadata": {},
     "output_type": "execute_result"
    }
   ],
   "source": [
    "l1"
   ]
  },
  {
   "cell_type": "code",
   "execution_count": 30,
   "id": "02266588-d640-45f2-b9ca-3197b0e49ae9",
   "metadata": {},
   "outputs": [
    {
     "ename": "TypeError",
     "evalue": "list.append() takes exactly one argument (2 given)",
     "output_type": "error",
     "traceback": [
      "\u001b[1;31m---------------------------------------------------------------------------\u001b[0m",
      "\u001b[1;31mTypeError\u001b[0m                                 Traceback (most recent call last)",
      "Cell \u001b[1;32mIn[30], line 1\u001b[0m\n\u001b[1;32m----> 1\u001b[0m l1\u001b[38;5;241m.\u001b[39mappend(\u001b[38;5;241m0\u001b[39m,[\u001b[38;5;241m1\u001b[39m,\u001b[38;5;241m2\u001b[39m,\u001b[38;5;241m3\u001b[39m])\n\u001b[0;32m      2\u001b[0m l1\n",
      "\u001b[1;31mTypeError\u001b[0m: list.append() takes exactly one argument (2 given)"
     ]
    }
   ],
   "source": [
    "l1.append(0,[1,2,3])\n",
    "l1\n"
   ]
  },
  {
   "cell_type": "code",
   "execution_count": 35,
   "id": "85168dd7-3257-4130-85b0-c03e1c81d4f1",
   "metadata": {},
   "outputs": [
    {
     "data": {
      "text/plain": [
       "[10, 20, 30, 50, 60, 70]"
      ]
     },
     "execution_count": 35,
     "metadata": {},
     "output_type": "execute_result"
    }
   ],
   "source": [
    "l1.sort()\n",
    "l1"
   ]
  },
  {
   "cell_type": "code",
   "execution_count": 36,
   "id": "abd80ac8-b0fd-403c-8a78-316c0be57c5e",
   "metadata": {},
   "outputs": [
    {
     "data": {
      "text/plain": [
       "[70, 60, 50, 30, 20, 10]"
      ]
     },
     "execution_count": 36,
     "metadata": {},
     "output_type": "execute_result"
    }
   ],
   "source": [
    "l1.sort(reverse=True)\n",
    "l1"
   ]
  },
  {
   "cell_type": "code",
   "execution_count": null,
   "id": "e005ba32-1c72-410f-b6af-9d8dd19acc50",
   "metadata": {},
   "outputs": [],
   "source": []
  }
 ],
 "metadata": {
  "kernelspec": {
   "display_name": "Python 3 (ipykernel)",
   "language": "python",
   "name": "python3"
  },
  "language_info": {
   "codemirror_mode": {
    "name": "ipython",
    "version": 3
   },
   "file_extension": ".py",
   "mimetype": "text/x-python",
   "name": "python",
   "nbconvert_exporter": "python",
   "pygments_lexer": "ipython3",
   "version": "3.13.5"
  }
 },
 "nbformat": 4,
 "nbformat_minor": 5
}

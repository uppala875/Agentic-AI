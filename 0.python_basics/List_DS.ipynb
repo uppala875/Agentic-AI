{
 "cells": [
  {
   "cell_type": "code",
   "execution_count": 1,
   "id": "77962139-23a5-4b7e-9c18-bc726d83cf9c",
   "metadata": {},
   "outputs": [
    {
     "data": {
      "text/plain": [
       "[]"
      ]
     },
     "execution_count": 1,
     "metadata": {},
     "output_type": "execute_result"
    }
   ],
   "source": [
    "l=[]  # declaring empty string l\n",
    "l"
   ]
  },
  {
   "cell_type": "code",
   "execution_count": 2,
   "id": "df4c7e6b-302d-4c13-94fd-bfb9d11586e5",
   "metadata": {},
   "outputs": [
    {
     "data": {
      "text/plain": [
       "0"
      ]
     },
     "execution_count": 2,
     "metadata": {},
     "output_type": "execute_result"
    }
   ],
   "source": [
    "len(l)"
   ]
  },
  {
   "cell_type": "code",
   "execution_count": 3,
   "id": "cbc9a11e-fbec-4384-800f-008072c00c4c",
   "metadata": {},
   "outputs": [
    {
     "data": {
      "text/plain": [
       "list"
      ]
     },
     "execution_count": 3,
     "metadata": {},
     "output_type": "execute_result"
    }
   ],
   "source": [
    "type(l)"
   ]
  },
  {
   "cell_type": "code",
   "execution_count": 4,
   "id": "506b3d53-cb41-484e-8a05-7573c408265b",
   "metadata": {},
   "outputs": [
    {
     "ename": "TypeError",
     "evalue": "list.append() takes exactly one argument (0 given)",
     "output_type": "error",
     "traceback": [
      "\u001b[1;31m---------------------------------------------------------------------------\u001b[0m",
      "\u001b[1;31mTypeError\u001b[0m                                 Traceback (most recent call last)",
      "Cell \u001b[1;32mIn[4], line 1\u001b[0m\n\u001b[1;32m----> 1\u001b[0m l\u001b[38;5;241m.\u001b[39mappend()\n",
      "\u001b[1;31mTypeError\u001b[0m: list.append() takes exactly one argument (0 given)"
     ]
    }
   ],
   "source": [
    "l.append()"
   ]
  },
  {
   "cell_type": "code",
   "execution_count": null,
   "id": "ef31f6be-2677-4c7d-b80e-1f1ddb2f971b",
   "metadata": {},
   "outputs": [],
   "source": [
    "l.append(20)"
   ]
  },
  {
   "cell_type": "code",
   "execution_count": null,
   "id": "37ed1d4e-dedb-4a7c-ac98-425fcb9ed3e9",
   "metadata": {},
   "outputs": [],
   "source": [
    "l\n"
   ]
  },
  {
   "cell_type": "code",
   "execution_count": null,
   "id": "de6709a6-4f48-4ec3-be43-4feae7cd6532",
   "metadata": {},
   "outputs": [],
   "source": [
    "l.append(40)\n",
    "l.append(60)\n",
    "l.append(80)\n",
    "l"
   ]
  },
  {
   "cell_type": "code",
   "execution_count": null,
   "id": "b77e6f46-fd7f-49b4-9552-06643312771e",
   "metadata": {},
   "outputs": [],
   "source": [
    "l.append(100)"
   ]
  },
  {
   "cell_type": "code",
   "execution_count": null,
   "id": "fee6754f-f5c5-4631-9872-b2db888ea65a",
   "metadata": {},
   "outputs": [],
   "source": [
    "l"
   ]
  },
  {
   "cell_type": "code",
   "execution_count": null,
   "id": "9b53f388-f4f0-4548-a006-ae81cf3fa6a2",
   "metadata": {},
   "outputs": [],
   "source": [
    "list_all_var=[10,5.55,'Test List',True,5+6j]\n",
    "list_all_var\n",
    "              "
   ]
  },
  {
   "cell_type": "code",
   "execution_count": null,
   "id": "ef60c8f2-f9fd-43ff-82f0-efb1e42c8970",
   "metadata": {},
   "outputs": [],
   "source": [
    "lis1=l.copy()\n",
    "list1"
   ]
  },
  {
   "cell_type": "code",
   "execution_count": 5,
   "id": "ba44466c-762c-438c-bd9f-a2ffb8f26078",
   "metadata": {},
   "outputs": [
    {
     "data": {
      "text/plain": [
       "[]"
      ]
     },
     "execution_count": 5,
     "metadata": {},
     "output_type": "execute_result"
    }
   ],
   "source": [
    "list1= l.copy()\n",
    "list1"
   ]
  },
  {
   "cell_type": "code",
   "execution_count": 6,
   "id": "912330a6-ab23-4135-9e57-e477462d6cb1",
   "metadata": {},
   "outputs": [
    {
     "ename": "NameError",
     "evalue": "name 'list_all_var' is not defined",
     "output_type": "error",
     "traceback": [
      "\u001b[1;31m---------------------------------------------------------------------------\u001b[0m",
      "\u001b[1;31mNameError\u001b[0m                                 Traceback (most recent call last)",
      "Cell \u001b[1;32mIn[6], line 1\u001b[0m\n\u001b[1;32m----> 1\u001b[0m list2 \u001b[38;5;241m=\u001b[39m list_all_var\u001b[38;5;241m.\u001b[39mcopy()\n\u001b[0;32m      2\u001b[0m list2\n",
      "\u001b[1;31mNameError\u001b[0m: name 'list_all_var' is not defined"
     ]
    }
   ],
   "source": [
    "list2 = list_all_var.copy()\n",
    "list2"
   ]
  },
  {
   "cell_type": "code",
   "execution_count": null,
   "id": "4be3f05c-2165-494d-9693-c98b6adcd16a",
   "metadata": {},
   "outputs": [],
   "source": []
  },
  {
   "cell_type": "code",
   "execution_count": 7,
   "id": "d444b84e-e979-471c-95ab-5e56d57af716",
   "metadata": {},
   "outputs": [
    {
     "data": {
      "text/plain": [
       "True"
      ]
     },
     "execution_count": 7,
     "metadata": {},
     "output_type": "execute_result"
    }
   ],
   "source": [
    "l==list1"
   ]
  },
  {
   "cell_type": "code",
   "execution_count": 8,
   "id": "a94de76f-09f3-45e5-8764-946316046136",
   "metadata": {},
   "outputs": [
    {
     "ename": "NameError",
     "evalue": "name 'list2' is not defined",
     "output_type": "error",
     "traceback": [
      "\u001b[1;31m---------------------------------------------------------------------------\u001b[0m",
      "\u001b[1;31mNameError\u001b[0m                                 Traceback (most recent call last)",
      "Cell \u001b[1;32mIn[8], line 1\u001b[0m\n\u001b[1;32m----> 1\u001b[0m list1\u001b[38;5;241m==\u001b[39mlist2\n",
      "\u001b[1;31mNameError\u001b[0m: name 'list2' is not defined"
     ]
    }
   ],
   "source": [
    "list1==list2"
   ]
  },
  {
   "cell_type": "code",
   "execution_count": 9,
   "id": "f6407fa9-f5c6-44ce-9910-92f1a8737c00",
   "metadata": {},
   "outputs": [
    {
     "data": {
      "text/plain": [
       "False"
      ]
     },
     "execution_count": 9,
     "metadata": {},
     "output_type": "execute_result"
    }
   ],
   "source": [
    "l!=list1"
   ]
  },
  {
   "cell_type": "code",
   "execution_count": 10,
   "id": "a84cd14a-48c0-4f5b-a0f6-f612a251c01c",
   "metadata": {},
   "outputs": [
    {
     "ename": "NameError",
     "evalue": "name 'list2' is not defined",
     "output_type": "error",
     "traceback": [
      "\u001b[1;31m---------------------------------------------------------------------------\u001b[0m",
      "\u001b[1;31mNameError\u001b[0m                                 Traceback (most recent call last)",
      "Cell \u001b[1;32mIn[10], line 1\u001b[0m\n\u001b[1;32m----> 1\u001b[0m list1\u001b[38;5;241m!=\u001b[39mlist2\n",
      "\u001b[1;31mNameError\u001b[0m: name 'list2' is not defined"
     ]
    }
   ],
   "source": [
    "list1!=list2"
   ]
  },
  {
   "cell_type": "code",
   "execution_count": 11,
   "id": "b1975810-c679-486d-9ed4-a3f7ffcd49dc",
   "metadata": {},
   "outputs": [
    {
     "data": {
      "text/plain": [
       "[]"
      ]
     },
     "execution_count": 11,
     "metadata": {},
     "output_type": "execute_result"
    }
   ],
   "source": [
    "list1"
   ]
  },
  {
   "cell_type": "code",
   "execution_count": 12,
   "id": "ea57090a-5a81-46f2-b7b8-609ee7513bd0",
   "metadata": {},
   "outputs": [
    {
     "data": {
      "text/plain": [
       "[]"
      ]
     },
     "execution_count": 12,
     "metadata": {},
     "output_type": "execute_result"
    }
   ],
   "source": [
    "list1[:]"
   ]
  },
  {
   "cell_type": "code",
   "execution_count": 13,
   "id": "92776d29-fa5a-4abd-831b-8afec80fbb3b",
   "metadata": {},
   "outputs": [
    {
     "ename": "IndexError",
     "evalue": "list index out of range",
     "output_type": "error",
     "traceback": [
      "\u001b[1;31m---------------------------------------------------------------------------\u001b[0m",
      "\u001b[1;31mIndexError\u001b[0m                                Traceback (most recent call last)",
      "Cell \u001b[1;32mIn[13], line 1\u001b[0m\n\u001b[1;32m----> 1\u001b[0m list1[\u001b[38;5;241m1\u001b[39m]\n",
      "\u001b[1;31mIndexError\u001b[0m: list index out of range"
     ]
    }
   ],
   "source": [
    "list1[1]"
   ]
  },
  {
   "cell_type": "code",
   "execution_count": 14,
   "id": "4dac38bf-9d3b-4697-a93b-a99c7039037c",
   "metadata": {},
   "outputs": [
    {
     "ename": "IndexError",
     "evalue": "list index out of range",
     "output_type": "error",
     "traceback": [
      "\u001b[1;31m---------------------------------------------------------------------------\u001b[0m",
      "\u001b[1;31mIndexError\u001b[0m                                Traceback (most recent call last)",
      "Cell \u001b[1;32mIn[14], line 1\u001b[0m\n\u001b[1;32m----> 1\u001b[0m list1[\u001b[38;5;241m-\u001b[39m\u001b[38;5;241m1\u001b[39m]\n",
      "\u001b[1;31mIndexError\u001b[0m: list index out of range"
     ]
    }
   ],
   "source": [
    "list1[-1]"
   ]
  },
  {
   "cell_type": "code",
   "execution_count": 15,
   "id": "e9df423b-6ace-45d6-8172-2fd4d656ed87",
   "metadata": {},
   "outputs": [
    {
     "ename": "IndexError",
     "evalue": "list index out of range",
     "output_type": "error",
     "traceback": [
      "\u001b[1;31m---------------------------------------------------------------------------\u001b[0m",
      "\u001b[1;31mIndexError\u001b[0m                                Traceback (most recent call last)",
      "Cell \u001b[1;32mIn[15], line 1\u001b[0m\n\u001b[1;32m----> 1\u001b[0m list1[\u001b[38;5;241m-\u001b[39m\u001b[38;5;241m2\u001b[39m]\n",
      "\u001b[1;31mIndexError\u001b[0m: list index out of range"
     ]
    }
   ],
   "source": [
    "list1[-2]"
   ]
  },
  {
   "cell_type": "code",
   "execution_count": 16,
   "id": "dad8712e-d19e-4ada-a556-a9ff55f6048e",
   "metadata": {},
   "outputs": [
    {
     "ename": "IndexError",
     "evalue": "list index out of range",
     "output_type": "error",
     "traceback": [
      "\u001b[1;31m---------------------------------------------------------------------------\u001b[0m",
      "\u001b[1;31mIndexError\u001b[0m                                Traceback (most recent call last)",
      "Cell \u001b[1;32mIn[16], line 1\u001b[0m\n\u001b[1;32m----> 1\u001b[0m list1[\u001b[38;5;241m5\u001b[39m]\n",
      "\u001b[1;31mIndexError\u001b[0m: list index out of range"
     ]
    }
   ],
   "source": [
    "list1[5]"
   ]
  },
  {
   "cell_type": "code",
   "execution_count": 17,
   "id": "beb42cbb-d414-4898-9bc6-3a09236b3cf4",
   "metadata": {},
   "outputs": [
    {
     "ename": "IndexError",
     "evalue": "list index out of range",
     "output_type": "error",
     "traceback": [
      "\u001b[1;31m---------------------------------------------------------------------------\u001b[0m",
      "\u001b[1;31mIndexError\u001b[0m                                Traceback (most recent call last)",
      "Cell \u001b[1;32mIn[17], line 1\u001b[0m\n\u001b[1;32m----> 1\u001b[0m l[\u001b[38;5;241m0\u001b[39m]\n",
      "\u001b[1;31mIndexError\u001b[0m: list index out of range"
     ]
    }
   ],
   "source": [
    "l[0]"
   ]
  },
  {
   "cell_type": "code",
   "execution_count": 18,
   "id": "7678b02d-dcfe-4241-81ea-86d88c4193bf",
   "metadata": {},
   "outputs": [
    {
     "ename": "IndexError",
     "evalue": "list assignment index out of range",
     "output_type": "error",
     "traceback": [
      "\u001b[1;31m---------------------------------------------------------------------------\u001b[0m",
      "\u001b[1;31mIndexError\u001b[0m                                Traceback (most recent call last)",
      "Cell \u001b[1;32mIn[18], line 1\u001b[0m\n\u001b[1;32m----> 1\u001b[0m list1[\u001b[38;5;241m0\u001b[39m]\u001b[38;5;241m=\u001b[39m\u001b[38;5;241m200\u001b[39m\n\u001b[0;32m      2\u001b[0m list1\n",
      "\u001b[1;31mIndexError\u001b[0m: list assignment index out of range"
     ]
    }
   ],
   "source": [
    "list1[0]=200\n",
    "list1\n"
   ]
  },
  {
   "cell_type": "code",
   "execution_count": 19,
   "id": "3235031b-dbbf-4304-99ed-5fb53ec320a7",
   "metadata": {},
   "outputs": [
    {
     "ename": "IndexError",
     "evalue": "list assignment index out of range",
     "output_type": "error",
     "traceback": [
      "\u001b[1;31m---------------------------------------------------------------------------\u001b[0m",
      "\u001b[1;31mIndexError\u001b[0m                                Traceback (most recent call last)",
      "Cell \u001b[1;32mIn[19], line 1\u001b[0m\n\u001b[1;32m----> 1\u001b[0m list1[\u001b[38;5;241m-\u001b[39m\u001b[38;5;241m1\u001b[39m]\u001b[38;5;241m=\u001b[39m\u001b[38;5;124m'\u001b[39m\u001b[38;5;124mJAN\u001b[39m\u001b[38;5;124m'\u001b[39m\n\u001b[0;32m      2\u001b[0m list1[\u001b[38;5;241m-\u001b[39m\u001b[38;5;241m2\u001b[39m]\u001b[38;5;241m=\u001b[39m\u001b[38;5;124m'\u001b[39m\u001b[38;5;124mFEB\u001b[39m\u001b[38;5;124m'\u001b[39m\n\u001b[0;32m      3\u001b[0m list1\n",
      "\u001b[1;31mIndexError\u001b[0m: list assignment index out of range"
     ]
    }
   ],
   "source": [
    "list1[-1]='JAN'\n",
    "list1[-2]='FEB'\n",
    "list1"
   ]
  },
  {
   "cell_type": "code",
   "execution_count": 20,
   "id": "e64f7d05-7377-4f38-aaf6-8f1f7e82f028",
   "metadata": {},
   "outputs": [
    {
     "data": {
      "text/plain": [
       "0"
      ]
     },
     "execution_count": 20,
     "metadata": {},
     "output_type": "execute_result"
    }
   ],
   "source": [
    "len(list1)"
   ]
  },
  {
   "cell_type": "code",
   "execution_count": 21,
   "id": "ad5e6543-e8ca-4f8d-b2e7-3edf93885f64",
   "metadata": {},
   "outputs": [
    {
     "data": {
      "text/plain": [
       "0"
      ]
     },
     "execution_count": 21,
     "metadata": {},
     "output_type": "execute_result"
    }
   ],
   "source": [
    "list1.count(60)\n"
   ]
  },
  {
   "cell_type": "code",
   "execution_count": 22,
   "id": "2dab67d6-4de3-4c28-97df-bc38c2c4099a",
   "metadata": {},
   "outputs": [],
   "source": [
    "l.extend(list1)"
   ]
  },
  {
   "cell_type": "code",
   "execution_count": 23,
   "id": "0756d886-c4b6-4455-80fa-b82e2bdea5ed",
   "metadata": {},
   "outputs": [
    {
     "data": {
      "text/plain": [
       "[100, 20, 30, 40, 'jan', 'feb', 40]"
      ]
     },
     "execution_count": 23,
     "metadata": {},
     "output_type": "execute_result"
    }
   ],
   "source": [
    "l2=[100, 20, 30, 40, 'jan', 'feb', 40]\n",
    "l2"
   ]
  },
  {
   "cell_type": "code",
   "execution_count": 24,
   "id": "b93b9746-f725-404f-8842-0346c7803628",
   "metadata": {},
   "outputs": [
    {
     "data": {
      "text/plain": [
       "[10, 20, 30, 40, 50, 60, 70]"
      ]
     },
     "execution_count": 24,
     "metadata": {},
     "output_type": "execute_result"
    }
   ],
   "source": [
    "l1=[10,20,30,40,50,60,70]\n",
    "l1"
   ]
  },
  {
   "cell_type": "code",
   "execution_count": 25,
   "id": "978b85b8-8dab-4d3d-bf43-1c44bc0d4c9d",
   "metadata": {},
   "outputs": [
    {
     "data": {
      "text/plain": [
       "[100, 20, 30, 40, 'jan', 'feb', 40, 10, 20, 30, 40, 50, 60, 70]"
      ]
     },
     "execution_count": 25,
     "metadata": {},
     "output_type": "execute_result"
    }
   ],
   "source": [
    "l2.extend(l1)\n",
    "l2"
   ]
  },
  {
   "cell_type": "code",
   "execution_count": 26,
   "id": "7957d27f-7c72-4633-95aa-ac73e083b90d",
   "metadata": {},
   "outputs": [
    {
     "data": {
      "text/plain": [
       "3"
      ]
     },
     "execution_count": 26,
     "metadata": {},
     "output_type": "execute_result"
    }
   ],
   "source": [
    "l2.count(40)"
   ]
  },
  {
   "cell_type": "code",
   "execution_count": 27,
   "id": "fd5bfdfc-c285-4231-b856-a86002be61dc",
   "metadata": {},
   "outputs": [
    {
     "data": {
      "text/plain": [
       "14"
      ]
     },
     "execution_count": 27,
     "metadata": {},
     "output_type": "execute_result"
    }
   ],
   "source": [
    "len(l2)"
   ]
  },
  {
   "cell_type": "code",
   "execution_count": 28,
   "id": "a1fd232b-53f0-423b-bb87-490ab9e3a806",
   "metadata": {},
   "outputs": [
    {
     "name": "stderr",
     "output_type": "stream",
     "text": [
      "<>:1: SyntaxWarning: invalid decimal literal\n",
      "<>:1: SyntaxWarning: invalid decimal literal\n",
      "C:\\Users\\RameshSwathi\\AppData\\Local\\Temp\\ipykernel_14528\\3900903461.py:1: SyntaxWarning: invalid decimal literal\n",
      "  12.index('feb')\n"
     ]
    },
    {
     "ename": "SyntaxError",
     "evalue": "invalid syntax (3900903461.py, line 1)",
     "output_type": "error",
     "traceback": [
      "\u001b[1;36m  Cell \u001b[1;32mIn[28], line 1\u001b[1;36m\u001b[0m\n\u001b[1;33m    12.index('feb')\u001b[0m\n\u001b[1;37m       ^\u001b[0m\n\u001b[1;31mSyntaxError\u001b[0m\u001b[1;31m:\u001b[0m invalid syntax\n"
     ]
    }
   ],
   "source": [
    "12.index('feb')"
   ]
  },
  {
   "cell_type": "code",
   "execution_count": 29,
   "id": "27f19234-640b-47dd-b39a-8d19e58e2238",
   "metadata": {},
   "outputs": [
    {
     "data": {
      "text/plain": [
       "3"
      ]
     },
     "execution_count": 29,
     "metadata": {},
     "output_type": "execute_result"
    }
   ],
   "source": [
    "l2.index(40) #only giving first value index when duplicates there"
   ]
  },
  {
   "cell_type": "code",
   "execution_count": 30,
   "id": "42542fe9-1172-4f7c-b93b-fc4390d1e520",
   "metadata": {},
   "outputs": [
    {
     "data": {
      "text/plain": [
       "[100, 20, 30, 40, 'jan', 'feb']"
      ]
     },
     "execution_count": 30,
     "metadata": {},
     "output_type": "execute_result"
    }
   ],
   "source": [
    "l2[0:6]"
   ]
  },
  {
   "cell_type": "code",
   "execution_count": 31,
   "id": "b5ad40f4-11fa-4c29-b1e3-dae2c211fa3f",
   "metadata": {},
   "outputs": [
    {
     "data": {
      "text/plain": [
       "[40, 'jan', 'feb', 40, 10, 20, 30]"
      ]
     },
     "execution_count": 31,
     "metadata": {},
     "output_type": "execute_result"
    }
   ],
   "source": [
    "l2[3:10]"
   ]
  },
  {
   "cell_type": "code",
   "execution_count": null,
   "id": "24a60c2d-4034-452d-931e-64f8b656a406",
   "metadata": {},
   "outputs": [],
   "source": []
  },
  {
   "cell_type": "code",
   "execution_count": 32,
   "id": "cf4521fd-55b2-42a1-b0b9-5e4bc5af5dc0",
   "metadata": {},
   "outputs": [
    {
     "data": {
      "text/plain": [
       "[100, 40, 40, 30, 60]"
      ]
     },
     "execution_count": 32,
     "metadata": {},
     "output_type": "execute_result"
    }
   ],
   "source": [
    "l2[::3]"
   ]
  },
  {
   "cell_type": "code",
   "execution_count": 33,
   "id": "42e33308-5457-4e9a-9ae0-fa089636e9c0",
   "metadata": {},
   "outputs": [
    {
     "data": {
      "text/plain": [
       "[100, 'feb', 40]"
      ]
     },
     "execution_count": 33,
     "metadata": {},
     "output_type": "execute_result"
    }
   ],
   "source": [
    "l2[::5]   #[100, 20, 30, 40, 'jan', 'feb', 40, 10, 20, 30, 40, 50, 60, 70]"
   ]
  },
  {
   "cell_type": "markdown",
   "id": "e2d0792d-5403-4407-8c9a-6e28ad7cc91f",
   "metadata": {},
   "source": [
    "backwaard indexing & backward slicing\n"
   ]
  },
  {
   "cell_type": "code",
   "execution_count": 34,
   "id": "d3c6d4ba-c3da-4bcb-b675-bfaef459f71a",
   "metadata": {},
   "outputs": [
    {
     "data": {
      "text/plain": [
       "30"
      ]
     },
     "execution_count": 34,
     "metadata": {},
     "output_type": "execute_result"
    }
   ],
   "source": [
    "l2[-5]"
   ]
  },
  {
   "cell_type": "code",
   "execution_count": 35,
   "id": "58368609-7951-4fae-975e-4a3585613ecb",
   "metadata": {},
   "outputs": [
    {
     "data": {
      "text/plain": [
       "[50, 60, 70]"
      ]
     },
     "execution_count": 35,
     "metadata": {},
     "output_type": "execute_result"
    }
   ],
   "source": [
    "l2[-3:] #here will print from -3 to end of the string"
   ]
  },
  {
   "cell_type": "code",
   "execution_count": 36,
   "id": "1828626e-53e6-4571-a481-c6bc10dda36b",
   "metadata": {},
   "outputs": [
    {
     "data": {
      "text/plain": [
       "[40, 'jan', 'feb', 40, 10, 20, 30, 40]"
      ]
     },
     "execution_count": 36,
     "metadata": {},
     "output_type": "execute_result"
    }
   ],
   "source": [
    "l2[3:-3]"
   ]
  },
  {
   "cell_type": "code",
   "execution_count": 37,
   "id": "7273e97c-2cd6-4985-8536-310a9da4eee5",
   "metadata": {},
   "outputs": [
    {
     "data": {
      "text/plain": [
       "[70, 40, 10, 'jan', 20]"
      ]
     },
     "execution_count": 37,
     "metadata": {},
     "output_type": "execute_result"
    }
   ],
   "source": [
    "l2[::-3]"
   ]
  },
  {
   "cell_type": "code",
   "execution_count": 38,
   "id": "4dd7a488-8400-44f1-9e49-4f0b12f5ae84",
   "metadata": {},
   "outputs": [],
   "source": [
    "l1.remove(40) # removes first occurance of 40"
   ]
  },
  {
   "cell_type": "code",
   "execution_count": 39,
   "id": "8c34b1d4-5cae-43d4-ad0f-802e6effc3ff",
   "metadata": {},
   "outputs": [
    {
     "data": {
      "text/plain": [
       "[10, 20, 30, 50, 60, 70]"
      ]
     },
     "execution_count": 39,
     "metadata": {},
     "output_type": "execute_result"
    }
   ],
   "source": [
    "l1"
   ]
  },
  {
   "cell_type": "code",
   "execution_count": 40,
   "id": "02266588-d640-45f2-b9ca-3197b0e49ae9",
   "metadata": {},
   "outputs": [
    {
     "ename": "TypeError",
     "evalue": "list.append() takes exactly one argument (2 given)",
     "output_type": "error",
     "traceback": [
      "\u001b[1;31m---------------------------------------------------------------------------\u001b[0m",
      "\u001b[1;31mTypeError\u001b[0m                                 Traceback (most recent call last)",
      "Cell \u001b[1;32mIn[40], line 1\u001b[0m\n\u001b[1;32m----> 1\u001b[0m l1\u001b[38;5;241m.\u001b[39mappend(\u001b[38;5;241m0\u001b[39m,[\u001b[38;5;241m1\u001b[39m,\u001b[38;5;241m2\u001b[39m,\u001b[38;5;241m3\u001b[39m])\n\u001b[0;32m      2\u001b[0m l1\n",
      "\u001b[1;31mTypeError\u001b[0m: list.append() takes exactly one argument (2 given)"
     ]
    }
   ],
   "source": [
    "l1.append(0,[1,2,3])\n",
    "l1\n"
   ]
  },
  {
   "cell_type": "code",
   "execution_count": 41,
   "id": "85168dd7-3257-4130-85b0-c03e1c81d4f1",
   "metadata": {},
   "outputs": [
    {
     "data": {
      "text/plain": [
       "[10, 20, 30, 50, 60, 70]"
      ]
     },
     "execution_count": 41,
     "metadata": {},
     "output_type": "execute_result"
    }
   ],
   "source": [
    "l1.sort()\n",
    "l1"
   ]
  },
  {
   "cell_type": "code",
   "execution_count": 42,
   "id": "abd80ac8-b0fd-403c-8a78-316c0be57c5e",
   "metadata": {},
   "outputs": [
    {
     "data": {
      "text/plain": [
       "[70, 60, 50, 30, 20, 10]"
      ]
     },
     "execution_count": 42,
     "metadata": {},
     "output_type": "execute_result"
    }
   ],
   "source": [
    "l1.sort(reverse=True)\n",
    "l1"
   ]
  },
  {
   "cell_type": "markdown",
   "id": "2947829c-3961-4b1f-8e0e-0b8d668e72b2",
   "metadata": {},
   "source": [
    "##Examples from LIST CODE.pdf\n"
   ]
  },
  {
   "cell_type": "code",
   "execution_count": 43,
   "id": "8e4f90bc-f890-4ebe-91b7-d1475ba75465",
   "metadata": {},
   "outputs": [
    {
     "data": {
      "text/plain": [
       "'hello good evening   '"
      ]
     },
     "execution_count": 43,
     "metadata": {},
     "output_type": "execute_result"
    }
   ],
   "source": [
    "txt=\"  hello good evening   \"\n",
    "txt.lstrip()  #intial spaces will be trim"
   ]
  },
  {
   "cell_type": "code",
   "execution_count": 44,
   "id": "46bcb1a4-7a28-409b-b6ae-18f77a3e69cb",
   "metadata": {},
   "outputs": [
    {
     "data": {
      "text/plain": [
       "['hello', 'good', 'evening']"
      ]
     },
     "execution_count": 44,
     "metadata": {},
     "output_type": "execute_result"
    }
   ],
   "source": [
    "txt.split()"
   ]
  },
  {
   "cell_type": "code",
   "execution_count": 45,
   "id": "8c39d7a0-4c42-4cfa-a62f-fbcaddce830a",
   "metadata": {},
   "outputs": [
    {
     "data": {
      "text/plain": [
       "'hello good evening'"
      ]
     },
     "execution_count": 45,
     "metadata": {},
     "output_type": "execute_result"
    }
   ],
   "source": [
    "txt.strip() #starting and ending spaces will be trim"
   ]
  },
  {
   "cell_type": "code",
   "execution_count": 46,
   "id": "3e0c41f5-3c89-4e45-9a1a-a9934f050a30",
   "metadata": {},
   "outputs": [
    {
     "ename": "SyntaxError",
     "evalue": "invalid syntax (1738310126.py, line 1)",
     "output_type": "error",
     "traceback": [
      "\u001b[1;36m  Cell \u001b[1;32mIn[46], line 1\u001b[1;36m\u001b[0m\n\u001b[1;33m    mystr=\"My favoruite tv show is \"cricket\"\"\u001b[0m\n\u001b[1;37m                                    ^\u001b[0m\n\u001b[1;31mSyntaxError\u001b[0m\u001b[1;31m:\u001b[0m invalid syntax\n"
     ]
    }
   ],
   "source": [
    "mystr=\"My favoruite tv show is \"cricket\"\""
   ]
  },
  {
   "cell_type": "code",
   "execution_count": 47,
   "id": "5808ce7f-253a-401b-a8d2-f88b38bbac04",
   "metadata": {},
   "outputs": [
    {
     "ename": "SyntaxError",
     "evalue": "unexpected character after line continuation character (1729584295.py, line 1)",
     "output_type": "error",
     "traceback": [
      "\u001b[1;36m  Cell \u001b[1;32mIn[47], line 1\u001b[1;36m\u001b[0m\n\u001b[1;33m    mystr=\"My favoruite tv show is \\\"cricket\"\\\"\u001b[0m\n\u001b[1;37m                                              ^\u001b[0m\n\u001b[1;31mSyntaxError\u001b[0m\u001b[1;31m:\u001b[0m unexpected character after line continuation character\n"
     ]
    }
   ],
   "source": [
    "mystr=\"My favoruite tv show is \\\"cricket\"\\\""
   ]
  },
  {
   "cell_type": "code",
   "execution_count": 48,
   "id": "58fb215d-1306-479a-b12b-a4302667c7d1",
   "metadata": {},
   "outputs": [
    {
     "name": "stdout",
     "output_type": "stream",
     "text": [
      "My favoruite tv show is \"cricket\"\n"
     ]
    }
   ],
   "source": [
    "mystr=\"My favoruite tv show is \\\"cricket\\\"\"\n",
    "print(mystr)"
   ]
  },
  {
   "cell_type": "markdown",
   "id": "48d1f1a6-7628-413c-95c4-f9e82c8dcd9f",
   "metadata": {},
   "source": [
    "##LIST DATA strcture examples from pdf"
   ]
  },
  {
   "cell_type": "code",
   "execution_count": 49,
   "id": "bda635b7-b1a7-4837-8f74-e075405f15b8",
   "metadata": {},
   "outputs": [],
   "source": [
    "list1 = [] "
   ]
  },
  {
   "cell_type": "code",
   "execution_count": 50,
   "id": "a95fc72b-f2c5-4acb-9bd2-712dbb2d2a12",
   "metadata": {},
   "outputs": [
    {
     "name": "stdout",
     "output_type": "stream",
     "text": [
      "<class 'list'>\n"
     ]
    }
   ],
   "source": [
    "print(type(list1))\n"
   ]
  },
  {
   "cell_type": "code",
   "execution_count": 51,
   "id": "85c4e653-62a9-4e0e-bfc7-d5c524b9126f",
   "metadata": {},
   "outputs": [],
   "source": [
    "list2 = [10,20,30,40,50,60,70] # List of integers numbers\n"
   ]
  },
  {
   "cell_type": "code",
   "execution_count": 52,
   "id": "0a921c84-4b4b-453c-bfd9-68f980bc3543",
   "metadata": {},
   "outputs": [],
   "source": [
    "list3 = [5.6,9.8,10.77,15.89,25.09,30.66,60.89] # List of float numbers"
   ]
  },
  {
   "cell_type": "code",
   "execution_count": 53,
   "id": "d1c4749d-248e-47b5-9dce-2626bc981f7a",
   "metadata": {},
   "outputs": [],
   "source": [
    "list4 = ['five','two' , \"three\",\"Rama\",\"Seetha\"] # List of strings\n"
   ]
  },
  {
   "cell_type": "code",
   "execution_count": 54,
   "id": "86adf727-5b8d-4411-a905-32304f7632e5",
   "metadata": {},
   "outputs": [],
   "source": [
    "list5 = ['Sachin', 45 ,[80,90, 100],[150, 90,54,38]] # Nested Lists"
   ]
  },
  {
   "cell_type": "code",
   "execution_count": 55,
   "id": "9b725cb3-d891-4d6e-b3a1-1cac5ad1b1e2",
   "metadata": {},
   "outputs": [],
   "source": [
    "list6 = [100, 'Lakshman', 17.765] # List of mixed data types\n"
   ]
  },
  {
   "cell_type": "code",
   "execution_count": 56,
   "id": "df6b9d73-ab54-4e50-a857-977b89e05871",
   "metadata": {},
   "outputs": [],
   "source": [
    "list7 = ['Asif', 25 ,[50, 100],[150, 90] , {'John' , 'David'}]\n"
   ]
  },
  {
   "cell_type": "code",
   "execution_count": 57,
   "id": "2c960566-011d-4192-8fb7-7cc059b63f7b",
   "metadata": {},
   "outputs": [
    {
     "data": {
      "text/plain": [
       "4"
      ]
     },
     "execution_count": 57,
     "metadata": {},
     "output_type": "execute_result"
    }
   ],
   "source": [
    "len(list5)"
   ]
  },
  {
   "attachments": {
    "07d06408-1590-4d25-827c-a9fb72f661df.png": {
     "image/png": "[encoded data removed]"
    }
   },
   "cell_type": "markdown",
   "id": "3eeb8a6c-59dd-4ba0-83f8-9212a2fad542",
   "metadata": {},
   "source": [
    "![image.png](attachment:07d06408-1590-4d25-827c-a9fb72f661df.png)"
   ]
  },
  {
   "cell_type": "code",
   "execution_count": 58,
   "id": "bc9ca715-cc2d-4a60-80c5-5118fd8b2984",
   "metadata": {},
   "outputs": [
    {
     "data": {
      "text/plain": [
       "'S'"
      ]
     },
     "execution_count": 58,
     "metadata": {},
     "output_type": "execute_result"
    }
   ],
   "source": [
    "list5[0][0]#list5 = ['Sachin', 45 ,[80,90, 100],[150, 90,54,38]] # Nested Lists"
   ]
  },
  {
   "cell_type": "code",
   "execution_count": 59,
   "id": "21c34b5f-e1be-4adb-958b-2c24ac306abd",
   "metadata": {},
   "outputs": [
    {
     "ename": "TypeError",
     "evalue": "'int' object is not subscriptable",
     "output_type": "error",
     "traceback": [
      "\u001b[1;31m---------------------------------------------------------------------------\u001b[0m",
      "\u001b[1;31mTypeError\u001b[0m                                 Traceback (most recent call last)",
      "Cell \u001b[1;32mIn[59], line 1\u001b[0m\n\u001b[1;32m----> 1\u001b[0m list5[\u001b[38;5;241m1\u001b[39m][\u001b[38;5;241m1\u001b[39m]\n",
      "\u001b[1;31mTypeError\u001b[0m: 'int' object is not subscriptable"
     ]
    }
   ],
   "source": [
    "list5[1][1]"
   ]
  },
  {
   "cell_type": "code",
   "execution_count": 60,
   "id": "5e90252d-c50d-4166-ad75-40bd9cb381b6",
   "metadata": {},
   "outputs": [
    {
     "data": {
      "text/plain": [
       "90"
      ]
     },
     "execution_count": 60,
     "metadata": {},
     "output_type": "execute_result"
    }
   ],
   "source": [
    "list5[2][1]"
   ]
  },
  {
   "cell_type": "code",
   "execution_count": 61,
   "id": "2e1cd2e1-6459-4b07-9a0e-2ae6d17b2037",
   "metadata": {},
   "outputs": [
    {
     "data": {
      "text/plain": [
       "[150, 90, 54, 38]"
      ]
     },
     "execution_count": 61,
     "metadata": {},
     "output_type": "execute_result"
    }
   ],
   "source": [
    "list5[-1]"
   ]
  },
  {
   "cell_type": "code",
   "execution_count": 62,
   "id": "3d1428db-296b-4c36-81bf-653d03353a47",
   "metadata": {},
   "outputs": [
    {
     "data": {
      "text/plain": [
       "38"
      ]
     },
     "execution_count": 62,
     "metadata": {},
     "output_type": "execute_result"
    }
   ],
   "source": [
    "list5[-1][-1]"
   ]
  },
  {
   "cell_type": "code",
   "execution_count": 63,
   "id": "03de586f-2aaa-4559-9d50-9379cb3614d5",
   "metadata": {},
   "outputs": [
    {
     "name": "stdout",
     "output_type": "stream",
     "text": [
      "['one', 'two', 'three', 'four', 'five', 'six', 'seven', 'eight', 'nine', 'ten', 'eleven', 'tweleve']\n"
     ]
    }
   ],
   "source": [
    "mylist = ['one' , 'two' , 'three' , 'four' , 'five' , 'six' , 'seven' , 'eight','nine','ten','eleven','tweleve']\n",
    "print(mylist)"
   ]
  },
  {
   "cell_type": "code",
   "execution_count": 64,
   "id": "3ccb00e4-73e4-4e0c-9d3a-7bedbabb4abc",
   "metadata": {},
   "outputs": [
    {
     "data": {
      "text/plain": [
       "['one', 'two', 'three', 'four', 'five']"
      ]
     },
     "execution_count": 64,
     "metadata": {},
     "output_type": "execute_result"
    }
   ],
   "source": [
    "mylist[0:5]"
   ]
  },
  {
   "cell_type": "code",
   "execution_count": 65,
   "id": "28163ef4-008c-4680-be0e-adcb0e294d62",
   "metadata": {},
   "outputs": [
    {
     "data": {
      "text/plain": [
       "['five', 'six', 'seven', 'eight', 'nine']"
      ]
     },
     "execution_count": 65,
     "metadata": {},
     "output_type": "execute_result"
    }
   ],
   "source": [
    "mylist[4:9]"
   ]
  },
  {
   "cell_type": "code",
   "execution_count": 66,
   "id": "2f9b79fd-65da-4b4f-9d9b-d53d75922cf1",
   "metadata": {},
   "outputs": [
    {
     "data": {
      "text/plain": [
       "['one', 'two', 'three', 'four', 'five']"
      ]
     },
     "execution_count": 66,
     "metadata": {},
     "output_type": "execute_result"
    }
   ],
   "source": [
    "mylist[:5]"
   ]
  },
  {
   "cell_type": "code",
   "execution_count": 67,
   "id": "10dcf252-3979-493f-b831-072b45cb22d1",
   "metadata": {},
   "outputs": [
    {
     "data": {
      "text/plain": [
       "['nine', 'ten', 'eleven', 'tweleve']"
      ]
     },
     "execution_count": 67,
     "metadata": {},
     "output_type": "execute_result"
    }
   ],
   "source": [
    "mylist[-4:]"
   ]
  },
  {
   "cell_type": "markdown",
   "id": "c4b47c81-d9e9-4893-be1f-a51bb42d19d7",
   "metadata": {},
   "source": [
    "mylist[-1]"
   ]
  },
  {
   "cell_type": "code",
   "execution_count": 68,
   "id": "c40395fa-4377-444d-a55d-3a00fef3db75",
   "metadata": {},
   "outputs": [
    {
     "data": {
      "text/plain": [
       "['one',\n",
       " 'two',\n",
       " 'three',\n",
       " 'four',\n",
       " 'five',\n",
       " 'six',\n",
       " 'seven',\n",
       " 'eight',\n",
       " 'nine',\n",
       " 'ten',\n",
       " 'eleven',\n",
       " 'tweleve']"
      ]
     },
     "execution_count": 68,
     "metadata": {},
     "output_type": "execute_result"
    }
   ],
   "source": [
    "mylist[:]"
   ]
  },
  {
   "cell_type": "markdown",
   "id": "ab75cbb8-8f1a-446f-991d-11734e6ff89f",
   "metadata": {},
   "source": [
    "Add , Remove & Change Items"
   ]
  },
  {
   "cell_type": "code",
   "execution_count": 69,
   "id": "93299e31-9eb8-4401-96d7-1eb63f7d186e",
   "metadata": {},
   "outputs": [],
   "source": [
    "mylist.remove('nine')"
   ]
  },
  {
   "cell_type": "code",
   "execution_count": 70,
   "id": "7befc75c-cb40-4216-936c-ff8e7db87717",
   "metadata": {},
   "outputs": [
    {
     "data": {
      "text/plain": [
       "['one',\n",
       " 'two',\n",
       " 'three',\n",
       " 'four',\n",
       " 'five',\n",
       " 'six',\n",
       " 'seven',\n",
       " 'eight',\n",
       " 'ten',\n",
       " 'eleven',\n",
       " 'tweleve']"
      ]
     },
     "execution_count": 70,
     "metadata": {},
     "output_type": "execute_result"
    }
   ],
   "source": [
    "mylist[:]"
   ]
  },
  {
   "cell_type": "code",
   "execution_count": 71,
   "id": "340bc771-3863-42e3-ac8f-9445c37010a7",
   "metadata": {},
   "outputs": [],
   "source": [
    "mylist.append('nine')"
   ]
  },
  {
   "cell_type": "code",
   "execution_count": 72,
   "id": "e4c4733b-9742-4072-b84f-b4cfebfbdcb6",
   "metadata": {},
   "outputs": [
    {
     "data": {
      "text/plain": [
       "['one',\n",
       " 'two',\n",
       " 'three',\n",
       " 'four',\n",
       " 'five',\n",
       " 'six',\n",
       " 'seven',\n",
       " 'eight',\n",
       " 'ten',\n",
       " 'eleven',\n",
       " 'tweleve',\n",
       " 'nine']"
      ]
     },
     "execution_count": 72,
     "metadata": {},
     "output_type": "execute_result"
    }
   ],
   "source": [
    "mylist[:]"
   ]
  },
  {
   "cell_type": "code",
   "execution_count": 73,
   "id": "bfafd056-ccce-4b40-9143-281c8f1411a2",
   "metadata": {},
   "outputs": [],
   "source": [
    "mylist.insert(9,'ten')"
   ]
  },
  {
   "cell_type": "code",
   "execution_count": 74,
   "id": "cb813da6-2510-44b8-972c-bae0f3c6c441",
   "metadata": {},
   "outputs": [
    {
     "data": {
      "text/plain": [
       "['one',\n",
       " 'two',\n",
       " 'three',\n",
       " 'four',\n",
       " 'five',\n",
       " 'six',\n",
       " 'seven',\n",
       " 'eight',\n",
       " 'ten',\n",
       " 'ten',\n",
       " 'eleven',\n",
       " 'tweleve']"
      ]
     },
     "execution_count": 74,
     "metadata": {},
     "output_type": "execute_result"
    }
   ],
   "source": [
    "mylist.pop()\n",
    "mylist"
   ]
  },
  {
   "cell_type": "code",
   "execution_count": 75,
   "id": "80b62b91-c4f7-4b72-a400-763011d27b4c",
   "metadata": {},
   "outputs": [
    {
     "data": {
      "text/plain": [
       "['one',\n",
       " 'two',\n",
       " 'three',\n",
       " 'four',\n",
       " 'five',\n",
       " 'six',\n",
       " 'seven',\n",
       " 'ten',\n",
       " 'ten',\n",
       " 'eleven',\n",
       " 'tweleve']"
      ]
     },
     "execution_count": 75,
     "metadata": {},
     "output_type": "execute_result"
    }
   ],
   "source": [
    "mylist.pop(7)\n",
    "mylist"
   ]
  },
  {
   "cell_type": "code",
   "execution_count": 76,
   "id": "d1f231fa-f28e-4e8e-b645-dafd2fb98e84",
   "metadata": {},
   "outputs": [
    {
     "data": {
      "text/plain": [
       "['one',\n",
       " 'two',\n",
       " 'three',\n",
       " 'four',\n",
       " 'five',\n",
       " 'six',\n",
       " 'seven',\n",
       " 'ten',\n",
       " 'eleven',\n",
       " 'tweleve']"
      ]
     },
     "execution_count": 76,
     "metadata": {},
     "output_type": "execute_result"
    }
   ],
   "source": [
    "del mylist[7]\n",
    "mylist"
   ]
  },
  {
   "cell_type": "code",
   "execution_count": 77,
   "id": "8ab9b7c5-fabb-4f72-b8b0-07cb337e2fee",
   "metadata": {},
   "outputs": [],
   "source": [
    "del mylist"
   ]
  },
  {
   "cell_type": "code",
   "execution_count": 78,
   "id": "d01532fa-217c-4f9a-bb6d-de299c1d445b",
   "metadata": {},
   "outputs": [
    {
     "ename": "NameError",
     "evalue": "name 'mylist' is not defined",
     "output_type": "error",
     "traceback": [
      "\u001b[1;31m---------------------------------------------------------------------------\u001b[0m",
      "\u001b[1;31mNameError\u001b[0m                                 Traceback (most recent call last)",
      "Cell \u001b[1;32mIn[78], line 1\u001b[0m\n\u001b[1;32m----> 1\u001b[0m mylist\n",
      "\u001b[1;31mNameError\u001b[0m: name 'mylist' is not defined"
     ]
    }
   ],
   "source": [
    "mylist"
   ]
  },
  {
   "cell_type": "code",
   "execution_count": 79,
   "id": "b9f023bf-6f01-4a56-b8df-5e1318267667",
   "metadata": {},
   "outputs": [],
   "source": [
    "mylist=['one', 'two', 'three', 'four', 'five', 'six', 'seven', 'eight', 'nine']"
   ]
  },
  {
   "cell_type": "markdown",
   "id": "d25fa98c-2b1f-4f7f-9770-43e620997eb6",
   "metadata": {},
   "source": [
    "##Copy List"
   ]
  },
  {
   "cell_type": "code",
   "execution_count": 80,
   "id": "feef554d-2162-4f90-b87d-118f9358ff5c",
   "metadata": {},
   "outputs": [
    {
     "data": {
      "text/plain": [
       "['one', 'two', 'three', 'four', 'five', 'six', 'seven', 'eight', 'nine']"
      ]
     },
     "execution_count": 80,
     "metadata": {},
     "output_type": "execute_result"
    }
   ],
   "source": [
    "mylist1=mylist\n",
    "mylist1\n"
   ]
  },
  {
   "cell_type": "code",
   "execution_count": 81,
   "id": "7ee4d591-8536-41a0-be65-e984454d2949",
   "metadata": {},
   "outputs": [
    {
     "name": "stdout",
     "output_type": "stream",
     "text": [
      "2210022957312\n",
      "2210022957312\n"
     ]
    }
   ],
   "source": [
    "print(id(mylist))\n",
    "print(id(mylist1))   ## Here id will be same"
   ]
  },
  {
   "cell_type": "code",
   "execution_count": 82,
   "id": "414dea32-5929-4de5-b182-aec12910b8a2",
   "metadata": {},
   "outputs": [
    {
     "name": "stdout",
     "output_type": "stream",
     "text": [
      "2210022957312\n",
      "2210024449344\n"
     ]
    }
   ],
   "source": [
    "mylist2=mylist.copy()\n",
    "print(id(mylist))\n",
    "print(id(mylist2))  ## here id diffrent"
   ]
  },
  {
   "cell_type": "code",
   "execution_count": 83,
   "id": "b1be6336-6431-43ba-82ce-8c29af19cc28",
   "metadata": {},
   "outputs": [
    {
     "data": {
      "text/plain": [
       "[1, 'two', 'three', 'four', 'five', 'six', 'seven', 'eight', 'nine']"
      ]
     },
     "execution_count": 83,
     "metadata": {},
     "output_type": "execute_result"
    }
   ],
   "source": [
    "mylist[0]=1   # here change will reflect in mylist and mylist 1\n",
    "mylist"
   ]
  },
  {
   "cell_type": "code",
   "execution_count": 84,
   "id": "6ad505c7-8c50-4ffb-8538-90e78dabc6e6",
   "metadata": {},
   "outputs": [
    {
     "data": {
      "text/plain": [
       "[1, 'two', 'three', 'four', 'five', 'six', 'seven', 'eight', 'nine']"
      ]
     },
     "execution_count": 84,
     "metadata": {},
     "output_type": "execute_result"
    }
   ],
   "source": [
    "mylist1"
   ]
  },
  {
   "cell_type": "code",
   "execution_count": 85,
   "id": "dac1349e-957d-4b13-b588-2b9228e1f606",
   "metadata": {},
   "outputs": [
    {
     "data": {
      "text/plain": [
       "['one', 'two', 'three', 'four', 'five', 'six', 'seven', 'eight', 'nine']"
      ]
     },
     "execution_count": 85,
     "metadata": {},
     "output_type": "execute_result"
    }
   ],
   "source": [
    "mylist2   ##above change not impacted mylist2"
   ]
  },
  {
   "cell_type": "markdown",
   "id": "3673b36b-4cf0-4a48-a3ad-ceb76fd21a69",
   "metadata": {},
   "source": [
    "##Join Lists"
   ]
  },
  {
   "cell_type": "code",
   "execution_count": 87,
   "id": "1646e102-cf0c-48e1-98df-5c299a3b362b",
   "metadata": {},
   "outputs": [],
   "source": [
    "list1 = ['one', 'two', 'three', 'four']\n",
    "list2 = ['five', 'six', 'seven', 'eight']\n"
   ]
  },
  {
   "cell_type": "code",
   "execution_count": 88,
   "id": "4c60e3a7-1f29-4415-9d2d-b60efe7bc672",
   "metadata": {},
   "outputs": [
    {
     "data": {
      "text/plain": [
       "['five', 'six', 'seven', 'eight', 'one', 'two', 'three', 'four']"
      ]
     },
     "execution_count": 88,
     "metadata": {},
     "output_type": "execute_result"
    }
   ],
   "source": [
    "list3 =list2 + list1\n",
    "list3"
   ]
  },
  {
   "cell_type": "code",
   "execution_count": 91,
   "id": "c3bdd9af-c328-4ec1-8024-b372c53292a4",
   "metadata": {},
   "outputs": [
    {
     "data": {
      "text/plain": [
       "['one',\n",
       " 'two',\n",
       " 'three',\n",
       " 'four',\n",
       " 'five',\n",
       " 'six',\n",
       " 'seven',\n",
       " 'eight',\n",
       " 'five',\n",
       " 'six',\n",
       " 'seven',\n",
       " 'eight',\n",
       " 'five',\n",
       " 'six',\n",
       " 'seven',\n",
       " 'eight']"
      ]
     },
     "execution_count": 91,
     "metadata": {},
     "output_type": "execute_result"
    }
   ],
   "source": [
    "list1.extend(list2)  ## note: if we execute multiple times list2 will appends multiple times\n",
    "list1"
   ]
  },
  {
   "cell_type": "markdown",
   "id": "8381b28b-4993-41e8-8c55-e5a373b7e88c",
   "metadata": {},
   "source": [
    "##List Membership"
   ]
  },
  {
   "cell_type": "code",
   "execution_count": 94,
   "id": "b22fff2a-b1df-403d-867d-ee1c43d1ac58",
   "metadata": {},
   "outputs": [
    {
     "data": {
      "text/plain": [
       "[1, 'two', 'three', 'four', 'five', 'six', 'seven', 'eight', 'nine']"
      ]
     },
     "execution_count": 94,
     "metadata": {},
     "output_type": "execute_result"
    }
   ],
   "source": [
    "mylist"
   ]
  },
  {
   "cell_type": "code",
   "execution_count": 95,
   "id": "2a3b4184-875f-4a6d-b789-472d5e2fcedd",
   "metadata": {},
   "outputs": [
    {
     "data": {
      "text/plain": [
       "True"
      ]
     },
     "execution_count": 95,
     "metadata": {},
     "output_type": "execute_result"
    }
   ],
   "source": [
    "'three' in mylist"
   ]
  },
  {
   "cell_type": "code",
   "execution_count": 96,
   "id": "7fcb6c57-b3a0-4597-a611-44ba69719b6f",
   "metadata": {},
   "outputs": [
    {
     "data": {
      "text/plain": [
       "False"
      ]
     },
     "execution_count": 96,
     "metadata": {},
     "output_type": "execute_result"
    }
   ],
   "source": [
    "'ten' in mylist"
   ]
  },
  {
   "cell_type": "code",
   "execution_count": 99,
   "id": "2b2c3e64-982e-4a17-9f5c-d4c6fa633151",
   "metadata": {},
   "outputs": [
    {
     "name": "stdout",
     "output_type": "stream",
     "text": [
      "five contains in mylist\n"
     ]
    }
   ],
   "source": [
    "if 'five' in mylist:\n",
    "    print(\"five contains in mylist\")\n",
    "else:\n",
    "    print(\"five not contains in mylist\")"
   ]
  },
  {
   "cell_type": "code",
   "execution_count": 100,
   "id": "0e7fb4fc-d86e-4ad9-a788-7de64be84ce8",
   "metadata": {},
   "outputs": [
    {
     "name": "stdout",
     "output_type": "stream",
     "text": [
      "eleven is not present in the list\n"
     ]
    }
   ],
   "source": [
    "if 'eleven' in list1: # Check if 'eleven' exist in the list\n",
    "   print('eleven is present in the list')\n",
    "else:\n",
    "   print('eleven is not present in the list')\n"
   ]
  },
  {
   "cell_type": "markdown",
   "id": "48c130fe-39ed-476e-9f37-f19a47a586ed",
   "metadata": {},
   "source": [
    "##Reverse & Sort List"
   ]
  },
  {
   "cell_type": "code",
   "execution_count": 102,
   "id": "b1607528-4fc8-4569-8c9f-26f80c817752",
   "metadata": {},
   "outputs": [
    {
     "data": {
      "text/plain": [
       "['nine', 'eight', 'seven', 'six', 'five', 'four', 'three', 'two', 1]"
      ]
     },
     "execution_count": 102,
     "metadata": {},
     "output_type": "execute_result"
    }
   ],
   "source": [
    "mylist.reverse() # Reverse the list\n",
    "mylist\n"
   ]
  },
  {
   "cell_type": "code",
   "execution_count": null,
   "id": "eb7a47e3-4ff1-4aeb-8fa5-003490b75685",
   "metadata": {},
   "outputs": [],
   "source": []
  },
  {
   "cell_type": "code",
   "execution_count": null,
   "id": "a684bcd1-dc4f-4617-823b-3d6f1c750bb9",
   "metadata": {},
   "outputs": [],
   "source": []
  },
  {
   "cell_type": "code",
   "execution_count": null,
   "id": "77498145-44c5-454e-92f9-9e97c6e13213",
   "metadata": {},
   "outputs": [],
   "source": []
  },
  {
   "cell_type": "code",
   "execution_count": null,
   "id": "d7690968-f0e5-43e6-a905-3acc766a6ec2",
   "metadata": {},
   "outputs": [],
   "source": []
  }
 ],
 "metadata": {
  "kernelspec": {
   "display_name": "Python 3 (ipykernel)",
   "language": "python",
   "name": "python3"
  },
  "language_info": {
   "codemirror_mode": {
    "name": "ipython",
    "version": 3
   },
   "file_extension": ".py",
   "mimetype": "text/x-python",
   "name": "python",
   "nbconvert_exporter": "python",
   "pygments_lexer": "ipython3",
   "version": "3.13.5"
  }
 },
 "nbformat": 4,
 "nbformat_minor": 5
}

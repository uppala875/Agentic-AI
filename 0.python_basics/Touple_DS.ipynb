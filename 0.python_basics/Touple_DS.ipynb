{
 "cells": [
  {
   "cell_type": "code",
   "execution_count": 2,
   "id": "a7db2852-673c-4d4f-9b7f-fe1066d7e60c",
   "metadata": {},
   "outputs": [],
   "source": [
    "tup1=()"
   ]
  },
  {
   "cell_type": "code",
   "execution_count": 3,
   "id": "7947a1d5-702e-4de3-a91f-4a3e9755e416",
   "metadata": {},
   "outputs": [
    {
     "data": {
      "text/plain": [
       "tuple"
      ]
     },
     "execution_count": 3,
     "metadata": {},
     "output_type": "execute_result"
    }
   ],
   "source": [
    "type(tup1)"
   ]
  },
  {
   "cell_type": "code",
   "execution_count": 6,
   "id": "d5d0930a-f261-4641-8ab9-46b20c7a05eb",
   "metadata": {},
   "outputs": [
    {
     "data": {
      "text/plain": [
       "(10, 20, 30, 40, 10)"
      ]
     },
     "execution_count": 6,
     "metadata": {},
     "output_type": "execute_result"
    }
   ],
   "source": [
    "tup2=(10,20,30,40,10)\n",
    "tup2"
   ]
  },
  {
   "cell_type": "code",
   "execution_count": 7,
   "id": "1d14ec60-f876-4f83-a6f5-318b4bc7240a",
   "metadata": {},
   "outputs": [
    {
     "data": {
      "text/plain": [
       "(10.2, 5.2, 15.9, 27.8, 36.2, 42.9, 54.1, 69.3)"
      ]
     },
     "execution_count": 7,
     "metadata": {},
     "output_type": "execute_result"
    }
   ],
   "source": [
    "tup3=(10.2,5.2,15.9,27.8,36.2,42.9,54.1,69.3)\n",
    "tup3"
   ]
  },
  {
   "cell_type": "code",
   "execution_count": 8,
   "id": "63ade1e1-78df-477d-80a5-ee7a5272ae40",
   "metadata": {},
   "outputs": [
    {
     "data": {
      "text/plain": [
       "('one', 'two', 'three')"
      ]
     },
     "execution_count": 8,
     "metadata": {},
     "output_type": "execute_result"
    }
   ],
   "source": [
    "tup4=('one','two',\"three\")\n",
    "tup4"
   ]
  },
  {
   "cell_type": "code",
   "execution_count": 9,
   "id": "6acd886d-5f6b-4ff6-8bea-e67ad7e07a82",
   "metadata": {},
   "outputs": [
    {
     "data": {
      "text/plain": [
       "('hyderabad', 46, [98, 34, 76, 23], [72, 98])"
      ]
     },
     "execution_count": 9,
     "metadata": {},
     "output_type": "execute_result"
    }
   ],
   "source": [
    "tup5=(\"hyderabad\",46,[98,34,76,23],[72,98])\n",
    "tup5"
   ]
  },
  {
   "cell_type": "code",
   "execution_count": 10,
   "id": "ee510ef1-d881-4151-9ec4-1ba779cfce12",
   "metadata": {},
   "outputs": [],
   "source": [
    "tup6 = (100, 'Asif', 17.765) # Tuple of mixed data types\n",
    "\n",
    "tup7 = ('Asif', 25 , [50, 100], [150, 90] , {'John' , 'David'} , (99,22,33))"
   ]
  },
  {
   "cell_type": "code",
   "execution_count": 11,
   "id": "fddfdcb6-23be-4aed-978f-a328fe3263d9",
   "metadata": {},
   "outputs": [
    {
     "data": {
      "text/plain": [
       "10"
      ]
     },
     "execution_count": 11,
     "metadata": {},
     "output_type": "execute_result"
    }
   ],
   "source": [
    "tup2[0]"
   ]
  },
  {
   "cell_type": "code",
   "execution_count": 12,
   "id": "6ed5c238-8bca-4114-a26f-157cfbe5eeaa",
   "metadata": {},
   "outputs": [
    {
     "ename": "IndexError",
     "evalue": "tuple index out of range",
     "output_type": "error",
     "traceback": [
      "\u001b[1;31m---------------------------------------------------------------------------\u001b[0m",
      "\u001b[1;31mIndexError\u001b[0m                                Traceback (most recent call last)",
      "Cell \u001b[1;32mIn[12], line 1\u001b[0m\n\u001b[1;32m----> 1\u001b[0m tup4[\u001b[38;5;241m4\u001b[39m]\n",
      "\u001b[1;31mIndexError\u001b[0m: tuple index out of range"
     ]
    }
   ],
   "source": [
    "tup4[4]"
   ]
  },
  {
   "cell_type": "code",
   "execution_count": 14,
   "id": "a3a5bf60-bda0-459b-a3b7-c973fddd46e0",
   "metadata": {},
   "outputs": [
    {
     "data": {
      "text/plain": [
       "'three'"
      ]
     },
     "execution_count": 14,
     "metadata": {},
     "output_type": "execute_result"
    }
   ],
   "source": [
    "tup4[2]"
   ]
  },
  {
   "cell_type": "code",
   "execution_count": 15,
   "id": "b01c213b-511c-485c-9d42-7d43f8613a6e",
   "metadata": {},
   "outputs": [
    {
     "data": {
      "text/plain": [
       "'i'"
      ]
     },
     "execution_count": 15,
     "metadata": {},
     "output_type": "execute_result"
    }
   ],
   "source": [
    "tup7[0][2]"
   ]
  },
  {
   "cell_type": "code",
   "execution_count": 17,
   "id": "6cdeef44-cf61-407a-bb77-2640b2256abf",
   "metadata": {},
   "outputs": [
    {
     "data": {
      "text/plain": [
       "90"
      ]
     },
     "execution_count": 17,
     "metadata": {},
     "output_type": "execute_result"
    }
   ],
   "source": [
    "tup7[-3][1]"
   ]
  },
  {
   "cell_type": "code",
   "execution_count": 19,
   "id": "cafee0ce-99f6-45d5-a81c-967eaf7355d7",
   "metadata": {},
   "outputs": [
    {
     "data": {
      "text/plain": [
       "('Asif',\n",
       " 25,\n",
       " [50, 100],\n",
       " [150, 90],\n",
       " {'David', 'John'},\n",
       " (99, 22, 33),\n",
       " 100,\n",
       " 'Asif',\n",
       " 17.765)"
      ]
     },
     "execution_count": 19,
     "metadata": {},
     "output_type": "execute_result"
    }
   ],
   "source": [
    "mytuple =tup7+tup6\n",
    "mytuple"
   ]
  },
  {
   "cell_type": "code",
   "execution_count": 20,
   "id": "cd2a10cf-40da-46b0-84db-c90334021c0e",
   "metadata": {},
   "outputs": [
    {
     "data": {
      "text/plain": [
       "('Asif', 25, [50, 100], [150, 90], {'David', 'John'}, (99, 22, 33))"
      ]
     },
     "execution_count": 20,
     "metadata": {},
     "output_type": "execute_result"
    }
   ],
   "source": [
    "mytuple[0:6]"
   ]
  },
  {
   "cell_type": "code",
   "execution_count": 21,
   "id": "f2484cdb-b6a0-42cd-a39b-476aef312c50",
   "metadata": {},
   "outputs": [
    {
     "data": {
      "text/plain": [
       "('Asif', 25, [50, 100], [150, 90], {'David', 'John'})"
      ]
     },
     "execution_count": 21,
     "metadata": {},
     "output_type": "execute_result"
    }
   ],
   "source": [
    "mytuple[:5] "
   ]
  },
  {
   "cell_type": "code",
   "execution_count": 23,
   "id": "436df8ee-ba7b-48bc-9252-260c6576a136",
   "metadata": {},
   "outputs": [
    {
     "data": {
      "text/plain": [
       "(100, 'Asif', 17.765)"
      ]
     },
     "execution_count": 23,
     "metadata": {},
     "output_type": "execute_result"
    }
   ],
   "source": [
    "mytuple[-3:] # Return Last three items\n"
   ]
  },
  {
   "cell_type": "code",
   "execution_count": 24,
   "id": "f0116b0e-a34c-4dc4-9c5a-ab8230ee94dd",
   "metadata": {},
   "outputs": [
    {
     "data": {
      "text/plain": [
       "17.765"
      ]
     },
     "execution_count": 24,
     "metadata": {},
     "output_type": "execute_result"
    }
   ],
   "source": [
    "mytuple[-1] #last element"
   ]
  },
  {
   "cell_type": "code",
   "execution_count": 33,
   "id": "8fca1144-6a4f-4d7c-9ed2-73975b7b8ffa",
   "metadata": {},
   "outputs": [
    {
     "ename": "NameError",
     "evalue": "name 'mytuple' is not defined",
     "output_type": "error",
     "traceback": [
      "\u001b[1;31m---------------------------------------------------------------------------\u001b[0m",
      "\u001b[1;31mNameError\u001b[0m                                 Traceback (most recent call last)",
      "Cell \u001b[1;32mIn[33], line 1\u001b[0m\n\u001b[1;32m----> 1\u001b[0m mytuple[:]\n",
      "\u001b[1;31mNameError\u001b[0m: name 'mytuple' is not defined"
     ]
    }
   ],
   "source": [
    "mytuple[:] #complete touple"
   ]
  },
  {
   "cell_type": "code",
   "execution_count": 27,
   "id": "39e8c7e2-550b-4b9f-a0cd-e6eb12e063de",
   "metadata": {},
   "outputs": [
    {
     "ename": "TypeError",
     "evalue": "'tuple' object doesn't support item deletion",
     "output_type": "error",
     "traceback": [
      "\u001b[1;31m---------------------------------------------------------------------------\u001b[0m",
      "\u001b[1;31mTypeError\u001b[0m                                 Traceback (most recent call last)",
      "Cell \u001b[1;32mIn[27], line 1\u001b[0m\n\u001b[1;32m----> 1\u001b[0m \u001b[38;5;28;01mdel\u001b[39;00m mytuple[\u001b[38;5;241m0\u001b[39m]\n",
      "\u001b[1;31mTypeError\u001b[0m: 'tuple' object doesn't support item deletion"
     ]
    }
   ],
   "source": [
    "del mytuple[0]  # Tuples are immutable which means we can't DELETE tuple items"
   ]
  },
  {
   "cell_type": "raw",
   "id": "7ac30f61-369d-4d80-8ccd-008b79716818",
   "metadata": {},
   "source": [
    "mytuple[0] = 1 # Tuples are immutable which means we can't CHANGE tuple items"
   ]
  },
  {
   "cell_type": "code",
   "execution_count": 30,
   "id": "6c41f1b4-e24c-40f2-ab59-09cf1bcdeac3",
   "metadata": {},
   "outputs": [
    {
     "ename": "NameError",
     "evalue": "name 'mytuple' is not defined",
     "output_type": "error",
     "traceback": [
      "\u001b[1;31m---------------------------------------------------------------------------\u001b[0m",
      "\u001b[1;31mNameError\u001b[0m                                 Traceback (most recent call last)",
      "Cell \u001b[1;32mIn[30], line 1\u001b[0m\n\u001b[1;32m----> 1\u001b[0m \u001b[38;5;28;01mdel\u001b[39;00m mytuple\n",
      "\u001b[1;31mNameError\u001b[0m: name 'mytuple' is not defined"
     ]
    }
   ],
   "source": [
    "del mytuple # Deleting entire tuple object is possible"
   ]
  },
  {
   "cell_type": "markdown",
   "id": "c902f829-70a9-43e8-955f-5bcb684e10b8",
   "metadata": {},
   "source": [
    "##Loop through a tuple"
   ]
  },
  {
   "cell_type": "code",
   "execution_count": 34,
   "id": "9d2a072d-cfef-471e-80dd-18ff371f191e",
   "metadata": {},
   "outputs": [
    {
     "name": "stdout",
     "output_type": "stream",
     "text": [
      "Asif\n",
      "25\n",
      "[50, 100]\n",
      "[150, 90]\n",
      "{'David', 'John'}\n",
      "(99, 22, 33)\n"
     ]
    }
   ],
   "source": [
    "for i in tup7:\n",
    "    print(i)"
   ]
  },
  {
   "cell_type": "code",
   "execution_count": 36,
   "id": "009cd0a8-2648-4212-913f-c93157aecdfb",
   "metadata": {},
   "outputs": [
    {
     "name": "stdout",
     "output_type": "stream",
     "text": [
      "(0, 'Asif')\n",
      "(1, 25)\n",
      "(2, [50, 100])\n",
      "(3, [150, 90])\n",
      "(4, {'David', 'John'})\n",
      "(5, (99, 22, 33))\n"
     ]
    }
   ],
   "source": [
    "for i in enumerate(tup7):\n",
    "    print(i)"
   ]
  },
  {
   "cell_type": "markdown",
   "id": "483a1ab0-572e-4683-8f88-3cda9cdcb026",
   "metadata": {},
   "source": [
    "Tuple Membership\n"
   ]
  },
  {
   "cell_type": "code",
   "execution_count": 37,
   "id": "c53cf362-ba63-480e-a752-ebd988ff411a",
   "metadata": {},
   "outputs": [
    {
     "data": {
      "text/plain": [
       "True"
      ]
     },
     "execution_count": 37,
     "metadata": {},
     "output_type": "execute_result"
    }
   ],
   "source": [
    "[150,90] in tup7"
   ]
  },
  {
   "cell_type": "code",
   "execution_count": 38,
   "id": "3be1ef6d-46c0-4735-9642-797b878cb67b",
   "metadata": {},
   "outputs": [
    {
     "data": {
      "text/plain": [
       "False"
      ]
     },
     "execution_count": 38,
     "metadata": {},
     "output_type": "execute_result"
    }
   ],
   "source": [
    "149 in tup7"
   ]
  },
  {
   "cell_type": "code",
   "execution_count": 41,
   "id": "eb85edf7-2201-4b4f-bfe8-529ad75e8aba",
   "metadata": {},
   "outputs": [
    {
     "name": "stdout",
     "output_type": "stream",
     "text": [
      "David is not present in the tuple\n"
     ]
    }
   ],
   "source": [
    "if 'David' in tup7: # Check if 'David' exist in the list\n",
    "    print('David is present in the tuple')\n",
    "else:\n",
    "    print('David is not present in the tuple')\n"
   ]
  },
  {
   "cell_type": "code",
   "execution_count": 42,
   "id": "626075e6-4f9c-43a8-bd86-c1560c69e95b",
   "metadata": {},
   "outputs": [
    {
     "name": "stdout",
     "output_type": "stream",
     "text": [
      "David is present in the tuple\n"
     ]
    }
   ],
   "source": [
    "if 'David' in tup7[4]: # Check if 'David' exist in the list\n",
    "    print('David is present in the tuple')\n",
    "else:\n",
    "    print('David is not present in the tuple')\n"
   ]
  },
  {
   "cell_type": "code",
   "execution_count": 52,
   "id": "571e6bed-5eca-430e-9a6c-d5dc73e21f5a",
   "metadata": {},
   "outputs": [
    {
     "data": {
      "text/plain": [
       "0"
      ]
     },
     "execution_count": 52,
     "metadata": {},
     "output_type": "execute_result"
    }
   ],
   "source": [
    "tup7.index('Asif')"
   ]
  },
  {
   "cell_type": "code",
   "execution_count": 53,
   "id": "8425f03e-570f-4df3-9a2c-c6756939d9cd",
   "metadata": {},
   "outputs": [],
   "source": [
    "##Sorting\n"
   ]
  },
  {
   "cell_type": "code",
   "execution_count": 54,
   "id": "542a3ff6-2514-4459-b215-b5c9b734ff37",
   "metadata": {},
   "outputs": [
    {
     "ename": "TypeError",
     "evalue": "'<' not supported between instances of 'int' and 'str'",
     "output_type": "error",
     "traceback": [
      "\u001b[1;31m---------------------------------------------------------------------------\u001b[0m",
      "\u001b[1;31mTypeError\u001b[0m                                 Traceback (most recent call last)",
      "Cell \u001b[1;32mIn[54], line 1\u001b[0m\n\u001b[1;32m----> 1\u001b[0m \u001b[38;5;28msorted\u001b[39m(tup7)\n",
      "\u001b[1;31mTypeError\u001b[0m: '<' not supported between instances of 'int' and 'str'"
     ]
    }
   ],
   "source": [
    "sorted(tup1)"
   ]
  },
  {
   "cell_type": "code",
   "execution_count": null,
   "id": "3946c89c-1dc1-4797-8f34-3d7110744092",
   "metadata": {},
   "outputs": [],
   "source": []
  }
 ],
 "metadata": {
  "kernelspec": {
   "display_name": "Python 3 (ipykernel)",
   "language": "python",
   "name": "python3"
  },
  "language_info": {
   "codemirror_mode": {
    "name": "ipython",
    "version": 3
   },
   "file_extension": ".py",
   "mimetype": "text/x-python",
   "name": "python",
   "nbconvert_exporter": "python",
   "pygments_lexer": "ipython3",
   "version": "3.13.5"
  }
 },
 "nbformat": 4,
 "nbformat_minor": 5
}

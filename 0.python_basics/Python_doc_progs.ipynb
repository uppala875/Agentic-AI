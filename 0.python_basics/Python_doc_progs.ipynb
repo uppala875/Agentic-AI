{
 "cells": [
  {
   "cell_type": "code",
   "execution_count": 6,
   "id": "db897735-54eb-4d7b-819b-0cbdfc57b42b",
   "metadata": {},
   "outputs": [],
   "source": [
    "tax = 12.5 % 100"
   ]
  },
  {
   "cell_type": "code",
   "execution_count": 7,
   "id": "2574155d-8731-40f1-90c7-4d75d2343d72",
   "metadata": {},
   "outputs": [
    {
     "data": {
      "text/plain": [
       "12.5"
      ]
     },
     "execution_count": 7,
     "metadata": {},
     "output_type": "execute_result"
    }
   ],
   "source": [
    "tax"
   ]
  },
  {
   "cell_type": "code",
   "execution_count": 9,
   "id": "2280231b-a501-49f5-a525-35b8a84926b1",
   "metadata": {},
   "outputs": [
    {
     "data": {
      "text/plain": [
       "12.5625"
      ]
     },
     "execution_count": 9,
     "metadata": {},
     "output_type": "execute_result"
    }
   ],
   "source": [
    "tax = 12.5 / 100\n",
    "price = 100.50\n",
    "price * tax\n",
    "\n"
   ]
  },
  {
   "cell_type": "code",
   "execution_count": 10,
   "id": "e7f4d8a7-76dd-4ba8-b37a-5f13603615bc",
   "metadata": {},
   "outputs": [
    {
     "data": {
      "text/plain": [
       "113.0625"
      ]
     },
     "execution_count": 10,
     "metadata": {},
     "output_type": "execute_result"
    }
   ],
   "source": [
    "price + _\n"
   ]
  },
  {
   "cell_type": "code",
   "execution_count": 11,
   "id": "7e07a87b-dfe4-407d-9c4b-7dfa13659b79",
   "metadata": {},
   "outputs": [
    {
     "data": {
      "text/plain": [
       "2"
      ]
     },
     "execution_count": 11,
     "metadata": {},
     "output_type": "execute_result"
    }
   ],
   "source": [
    "fruits = ['orange', 'apple', 'pear', 'banana', 'kiwi', 'apple', 'banana']\n",
    "fruits.count('banana')"
   ]
  },
  {
   "cell_type": "code",
   "execution_count": 12,
   "id": "d27a3252-d095-4f3f-846a-50d13b63ac71",
   "metadata": {},
   "outputs": [
    {
     "data": {
      "text/plain": [
       "3"
      ]
     },
     "execution_count": 12,
     "metadata": {},
     "output_type": "execute_result"
    }
   ],
   "source": [
    "fruits.index('banana')\n"
   ]
  },
  {
   "cell_type": "code",
   "execution_count": 13,
   "id": "6338860f-e27f-4ec2-9858-6fb7d9032ef1",
   "metadata": {},
   "outputs": [
    {
     "data": {
      "text/plain": [
       "6"
      ]
     },
     "execution_count": 13,
     "metadata": {},
     "output_type": "execute_result"
    }
   ],
   "source": [
    "fruits.index('banana', 4)# Find next banana starting at position 4"
   ]
  },
  {
   "cell_type": "code",
   "execution_count": 14,
   "id": "78dec096-00ca-4814-a6cd-6f97ce33b59e",
   "metadata": {},
   "outputs": [
    {
     "data": {
      "text/plain": [
       "['banana', 'apple', 'kiwi', 'banana', 'pear', 'apple', 'orange']"
      ]
     },
     "execution_count": 14,
     "metadata": {},
     "output_type": "execute_result"
    }
   ],
   "source": [
    "fruits.reverse()\n",
    "fruits"
   ]
  },
  {
   "cell_type": "code",
   "execution_count": 15,
   "id": "9486ea2e-8a46-4bbb-a6bf-9cff9672a603",
   "metadata": {},
   "outputs": [
    {
     "ename": "ValueError",
     "evalue": "'banana' is not in list",
     "output_type": "error",
     "traceback": [
      "\u001b[1;31m---------------------------------------------------------------------------\u001b[0m",
      "\u001b[1;31mValueError\u001b[0m                                Traceback (most recent call last)",
      "Cell \u001b[1;32mIn[15], line 1\u001b[0m\n\u001b[1;32m----> 1\u001b[0m fruits\u001b[38;5;241m.\u001b[39mindex(\u001b[38;5;124m'\u001b[39m\u001b[38;5;124mbanana\u001b[39m\u001b[38;5;124m'\u001b[39m, \u001b[38;5;241m4\u001b[39m)\n",
      "\u001b[1;31mValueError\u001b[0m: 'banana' is not in list"
     ]
    }
   ],
   "source": [
    "fruits.index('banana', 4)# Find next banana starting at position 4"
   ]
  },
  {
   "cell_type": "code",
   "execution_count": 16,
   "id": "d7d3f1d9-7757-4ea5-ad75-665603ff41da",
   "metadata": {},
   "outputs": [
    {
     "data": {
      "text/plain": [
       "3"
      ]
     },
     "execution_count": 16,
     "metadata": {},
     "output_type": "execute_result"
    }
   ],
   "source": [
    "fruits.index('banana', 3)# Find next banana starting at position 3"
   ]
  },
  {
   "cell_type": "code",
   "execution_count": 17,
   "id": "5d650de1-affa-4050-ae21-c3578710e52b",
   "metadata": {},
   "outputs": [],
   "source": [
    "fruits.append('kiwi')"
   ]
  },
  {
   "cell_type": "markdown",
   "id": "5ae42582-400b-4b74-9887-d10559627f65",
   "metadata": {},
   "source": [
    "##### fruits"
   ]
  },
  {
   "cell_type": "code",
   "execution_count": 19,
   "id": "bf6203b0-a551-4c31-976b-6e0d959ca46f",
   "metadata": {},
   "outputs": [
    {
     "ename": "TypeError",
     "evalue": "list.append() takes exactly one argument (2 given)",
     "output_type": "error",
     "traceback": [
      "\u001b[1;31m---------------------------------------------------------------------------\u001b[0m",
      "\u001b[1;31mTypeError\u001b[0m                                 Traceback (most recent call last)",
      "Cell \u001b[1;32mIn[19], line 1\u001b[0m\n\u001b[1;32m----> 1\u001b[0m fruits\u001b[38;5;241m.\u001b[39mappend(\u001b[38;5;124m'\u001b[39m\u001b[38;5;124mgrape\u001b[39m\u001b[38;5;124m'\u001b[39m,\u001b[38;5;241m5\u001b[39m)\n",
      "\u001b[1;31mTypeError\u001b[0m: list.append() takes exactly one argument (2 given)"
     ]
    }
   ],
   "source": [
    "fruits.append('grape',5)"
   ]
  },
  {
   "cell_type": "code",
   "execution_count": 20,
   "id": "5554e9b6-50dd-456a-a08e-2e599b6da735",
   "metadata": {},
   "outputs": [],
   "source": [
    "fruits.sort()"
   ]
  },
  {
   "cell_type": "code",
   "execution_count": 21,
   "id": "91f67c4e-1d99-4e6b-9192-d92da91328bf",
   "metadata": {},
   "outputs": [
    {
     "data": {
      "text/plain": [
       "['apple', 'apple', 'banana', 'banana', 'kiwi', 'kiwi', 'orange', 'pear']"
      ]
     },
     "execution_count": 21,
     "metadata": {},
     "output_type": "execute_result"
    }
   ],
   "source": [
    "fruits"
   ]
  },
  {
   "cell_type": "code",
   "execution_count": 22,
   "id": "8b094f81-d2e1-42e3-b159-963aef4702bc",
   "metadata": {},
   "outputs": [
    {
     "data": {
      "text/plain": [
       "['apple', 'apple', 'banana', 'banana', 'kiwi', 'kiwi', 'orange']"
      ]
     },
     "execution_count": 22,
     "metadata": {},
     "output_type": "execute_result"
    }
   ],
   "source": [
    "fruits.pop()\n",
    "fruits"
   ]
  },
  {
   "cell_type": "code",
   "execution_count": 27,
   "id": "807815b6-61ce-4169-869d-c785d6aeb6da",
   "metadata": {},
   "outputs": [
    {
     "name": "stdout",
     "output_type": "stream",
     "text": [
      "[25, 64, 121, 196, 289, 400, 529, 676, 841, 1024, 1225, 1444, 1681, 1936, 2209]\n"
     ]
    }
   ],
   "source": [
    "squares = []\n",
    "for x in range(5,50,3):\n",
    "    squares.append(x ** 2)\n",
    "\n",
    "print(squares)   "
   ]
  },
  {
   "cell_type": "code",
   "execution_count": 28,
   "id": "8f49185d-37fe-4d20-b4c0-a409e9eaf119",
   "metadata": {},
   "outputs": [
    {
     "data": {
      "text/plain": [
       "[0, 1, 4, 9, 16, 25, 36, 49, 64, 81]"
      ]
     },
     "execution_count": 28,
     "metadata": {},
     "output_type": "execute_result"
    }
   ],
   "source": [
    "squares = [x**2 for x in range(10)]\n",
    "squares"
   ]
  },
  {
   "cell_type": "code",
   "execution_count": 29,
   "id": "f2043a4f-6b33-4bbe-a142-9e088456cac7",
   "metadata": {},
   "outputs": [
    {
     "data": {
      "text/plain": [
       "[(1, 3), (1, 4), (2, 3), (2, 1), (2, 4), (3, 1), (3, 4)]"
      ]
     },
     "execution_count": 29,
     "metadata": {},
     "output_type": "execute_result"
    }
   ],
   "source": [
    "[(x, y) for x in [1,2,3] for y in [3,1,4] if x != y]"
   ]
  },
  {
   "cell_type": "code",
   "execution_count": 31,
   "id": "4cdfd871-ad1b-4b80-b24b-3e60b7b5a776",
   "metadata": {},
   "outputs": [
    {
     "name": "stdout",
     "output_type": "stream",
     "text": [
      "[(1, 3), (1, 4), (2, 3), (2, 1), (2, 4), (3, 1), (3, 4), (4, 3), (4, 1)]\n"
     ]
    }
   ],
   "source": [
    "#above we can represent like this as welel\n",
    "\n",
    "combs=[]\n",
    "for x in [1,2,3,4]:\n",
    "    for y in [3,1,4]:\n",
    "        if x!=y:\n",
    "            combs.append((x,y))\n",
    "print(combs)  \n",
    "            \n",
    "            "
   ]
  },
  {
   "cell_type": "code",
   "execution_count": 33,
   "id": "a1c9cc35-1691-45ad-a3d7-9094b0e6f194",
   "metadata": {},
   "outputs": [
    {
     "data": {
      "text/plain": [
       "[-64, -8, 0, 8, 64]"
      ]
     },
     "execution_count": 33,
     "metadata": {},
     "output_type": "execute_result"
    }
   ],
   "source": [
    "vec = [-4, -2, 0, 2, 4]\n",
    " #we can create new list using above\n",
    "\n",
    "l=[x**3 for x in vec]\n",
    "l"
   ]
  },
  {
   "cell_type": "code",
   "execution_count": 36,
   "id": "b849a920-ab6a-43e6-a740-a355288a804b",
   "metadata": {},
   "outputs": [
    {
     "data": {
      "text/plain": [
       "[4]"
      ]
     },
     "execution_count": 36,
     "metadata": {},
     "output_type": "execute_result"
    }
   ],
   "source": [
    "[x for x in vec if x>2]"
   ]
  },
  {
   "cell_type": "code",
   "execution_count": 40,
   "id": "c02f2de5-24d3-4a9b-a3f5-30d51558d26c",
   "metadata": {},
   "outputs": [
    {
     "data": {
      "text/plain": [
       "[4, 2]"
      ]
     },
     "execution_count": 40,
     "metadata": {},
     "output_type": "execute_result"
    }
   ],
   "source": [
    "\n",
    "[abs(x) for x in vec if x < 0]"
   ]
  },
  {
   "cell_type": "code",
   "execution_count": 46,
   "id": "92cde907-e88f-450f-b8e7-7d6694d62f9a",
   "metadata": {},
   "outputs": [
    {
     "data": {
      "text/plain": [
       "['banana', 'loganberry', 'passion fruit']"
      ]
     },
     "execution_count": 46,
     "metadata": {},
     "output_type": "execute_result"
    }
   ],
   "source": [
    "freshfruit = ['  banana', '  loganberry ', 'passion fruit  ']\n",
    "#freshfruit[0].strip()\n",
    "[weapon.strip() for weapon in freshfruit]\n"
   ]
  },
  {
   "cell_type": "code",
   "execution_count": null,
   "id": "c501401f-a503-483e-9aad-7ab3b2a3b0ad",
   "metadata": {},
   "outputs": [],
   "source": []
  }
 ],
 "metadata": {
  "kernelspec": {
   "display_name": "Python 3 (ipykernel)",
   "language": "python",
   "name": "python3"
  },
  "language_info": {
   "codemirror_mode": {
    "name": "ipython",
    "version": 3
   },
   "file_extension": ".py",
   "mimetype": "text/x-python",
   "name": "python",
   "nbconvert_exporter": "python",
   "pygments_lexer": "ipython3",
   "version": "3.13.5"
  }
 },
 "nbformat": 4,
 "nbformat_minor": 5
}

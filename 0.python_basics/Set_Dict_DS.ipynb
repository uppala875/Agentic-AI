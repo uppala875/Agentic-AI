{
 "cells": [
  {
   "cell_type": "markdown",
   "id": "e02f932b-927d-4e94-bef5-a6f0cd1ed6b2",
   "metadata": {},
   "source": [
    "#SET"
   ]
  },
  {
   "cell_type": "code",
   "execution_count": 1,
   "id": "842b57d4-8d39-420d-83fc-68614ff94100",
   "metadata": {},
   "outputs": [
    {
     "data": {
      "text/plain": [
       "{}"
      ]
     },
     "execution_count": 1,
     "metadata": {},
     "output_type": "execute_result"
    }
   ],
   "source": [
    "s={}\n",
    "s\n"
   ]
  },
  {
   "cell_type": "code",
   "execution_count": 2,
   "id": "235b924f-4005-4a64-8052-153117fe6274",
   "metadata": {},
   "outputs": [
    {
     "data": {
      "text/plain": [
       "dict"
      ]
     },
     "execution_count": 2,
     "metadata": {},
     "output_type": "execute_result"
    }
   ],
   "source": [
    "type(s)  #empty {} will give dict\n"
   ]
  },
  {
   "cell_type": "code",
   "execution_count": 4,
   "id": "c9f90b0e-34c6-47f5-915b-ce96c09b86f1",
   "metadata": {},
   "outputs": [
    {
     "data": {
      "text/plain": [
       "set()"
      ]
     },
     "execution_count": 4,
     "metadata": {},
     "output_type": "execute_result"
    }
   ],
   "source": [
    "#to define set\n",
    "s1=set()\n",
    "s1"
   ]
  },
  {
   "cell_type": "code",
   "execution_count": 5,
   "id": "c9a89bf3-152e-4fe0-bc1f-c6bd2a95a302",
   "metadata": {},
   "outputs": [
    {
     "data": {
      "text/plain": [
       "set"
      ]
     },
     "execution_count": 5,
     "metadata": {},
     "output_type": "execute_result"
    }
   ],
   "source": [
    "type(s1)"
   ]
  },
  {
   "cell_type": "code",
   "execution_count": 9,
   "id": "c83715d1-981b-49d5-98ea-c7005ea20b53",
   "metadata": {},
   "outputs": [
    {
     "name": "stdout",
     "output_type": "stream",
     "text": [
      "<class 'set'>\n"
     ]
    }
   ],
   "source": [
    "s2={48,23,90,12,86,34}\n",
    "s2  # by default  sort order\n",
    "print(type(s2))"
   ]
  },
  {
   "cell_type": "code",
   "execution_count": 7,
   "id": "8eb20a03-dc93-41c6-82ea-d9fa49ed7605",
   "metadata": {},
   "outputs": [
    {
     "data": {
      "text/plain": [
       "{12, 23, 34, 48, 86, 90}"
      ]
     },
     "execution_count": 7,
     "metadata": {},
     "output_type": "execute_result"
    }
   ],
   "source": [
    "s3=s2.copy()\n",
    "s3"
   ]
  },
  {
   "cell_type": "code",
   "execution_count": 10,
   "id": "c00c25c4-753d-4adb-ae49-06d530a9f00f",
   "metadata": {},
   "outputs": [],
   "source": [
    "s3.add(67.5)"
   ]
  },
  {
   "cell_type": "code",
   "execution_count": 11,
   "id": "70509df2-aba7-45cd-a822-043ee4f28533",
   "metadata": {},
   "outputs": [
    {
     "data": {
      "text/plain": [
       "{12, 23, 34, 48, 67.5, 86, 90}"
      ]
     },
     "execution_count": 11,
     "metadata": {},
     "output_type": "execute_result"
    }
   ],
   "source": [
    "s3"
   ]
  },
  {
   "cell_type": "code",
   "execution_count": 12,
   "id": "5ac63a2b-7a44-4c50-bb54-a026ea562590",
   "metadata": {},
   "outputs": [],
   "source": [
    "s3.add(3+2j)\n",
    "s3.add(True)"
   ]
  },
  {
   "cell_type": "code",
   "execution_count": 13,
   "id": "be7a9696-58ce-4b31-a7bc-08546689702e",
   "metadata": {},
   "outputs": [
    {
     "data": {
      "text/plain": [
       "{(3+2j), 12, 23, 34, 48, 67.5, 86, 90, 'Test', True}"
      ]
     },
     "execution_count": 13,
     "metadata": {},
     "output_type": "execute_result"
    }
   ],
   "source": [
    "s3.add('Test')\n",
    "s3"
   ]
  },
  {
   "cell_type": "code",
   "execution_count": 15,
   "id": "b6718350-f4fe-479d-b5b5-710589365bb1",
   "metadata": {},
   "outputs": [
    {
     "ename": "KeyError",
     "evalue": "(3+2j)",
     "output_type": "error",
     "traceback": [
      "\u001b[1;31m---------------------------------------------------------------------------\u001b[0m",
      "\u001b[1;31mKeyError\u001b[0m                                  Traceback (most recent call last)",
      "Cell \u001b[1;32mIn[15], line 1\u001b[0m\n\u001b[1;32m----> 1\u001b[0m s3\u001b[38;5;241m.\u001b[39mremove(\u001b[38;5;241m3\u001b[39m\u001b[38;5;241m+\u001b[39m\u001b[38;5;241m2\u001b[39mj)\n\u001b[0;32m      2\u001b[0m s3\n",
      "\u001b[1;31mKeyError\u001b[0m: (3+2j)"
     ]
    }
   ],
   "source": [
    "s3.remove(3+2j)  #if element will be there it will delete other wise it will throw error"
   ]
  },
  {
   "cell_type": "code",
   "execution_count": 16,
   "id": "73d356e1-eb30-44a0-ae75-9319f4bb624f",
   "metadata": {},
   "outputs": [
    {
     "data": {
      "text/plain": [
       "{12, 23, 34, 48, 67.5, 86, 90, 'Test', True}"
      ]
     },
     "execution_count": 16,
     "metadata": {},
     "output_type": "execute_result"
    }
   ],
   "source": [
    "s3"
   ]
  },
  {
   "cell_type": "code",
   "execution_count": 17,
   "id": "bfc0405c-107a-4aba-9b4c-beb041afd6e2",
   "metadata": {},
   "outputs": [],
   "source": [
    "s3.discard(3+2j) #if element will be there it will delete other wise ignore"
   ]
  },
  {
   "cell_type": "code",
   "execution_count": 19,
   "id": "9f641ff3-e0c9-4dcd-9532-cbdb3c99b246",
   "metadata": {},
   "outputs": [
    {
     "data": {
      "text/plain": [
       "{12, 23, 34, 48, 86, 90, 'Test'}"
      ]
     },
     "execution_count": 19,
     "metadata": {},
     "output_type": "execute_result"
    }
   ],
   "source": [
    "s3.pop() # will remove any random element\n",
    "s3"
   ]
  },
  {
   "cell_type": "code",
   "execution_count": 20,
   "id": "5833cb18-7ff8-46e8-8a0b-a595a6eb2e35",
   "metadata": {},
   "outputs": [
    {
     "ename": "TypeError",
     "evalue": "set.pop() takes no arguments (1 given)",
     "output_type": "error",
     "traceback": [
      "\u001b[1;31m---------------------------------------------------------------------------\u001b[0m",
      "\u001b[1;31mTypeError\u001b[0m                                 Traceback (most recent call last)",
      "Cell \u001b[1;32mIn[20], line 1\u001b[0m\n\u001b[1;32m----> 1\u001b[0m s3\u001b[38;5;241m.\u001b[39mpop(\u001b[38;5;241m0\u001b[39m)\n",
      "\u001b[1;31mTypeError\u001b[0m: set.pop() takes no arguments (1 given)"
     ]
    }
   ],
   "source": [
    "s3.pop(0) #index wont support pop() with zero arg"
   ]
  },
  {
   "cell_type": "code",
   "execution_count": 21,
   "id": "63b51bd2-d774-4d5c-90f5-bf29d41db356",
   "metadata": {},
   "outputs": [
    {
     "ename": "TypeError",
     "evalue": "'set' object is not subscriptable",
     "output_type": "error",
     "traceback": [
      "\u001b[1;31m---------------------------------------------------------------------------\u001b[0m",
      "\u001b[1;31mTypeError\u001b[0m                                 Traceback (most recent call last)",
      "Cell \u001b[1;32mIn[21], line 1\u001b[0m\n\u001b[1;32m----> 1\u001b[0m s3[:]\n",
      "\u001b[1;31mTypeError\u001b[0m: 'set' object is not subscriptable"
     ]
    }
   ],
   "source": [
    "s3[:] #wont allow slicing"
   ]
  },
  {
   "cell_type": "code",
   "execution_count": 22,
   "id": "9774b753-992b-4142-8931-423c262b6919",
   "metadata": {},
   "outputs": [
    {
     "ename": "TypeError",
     "evalue": "'set' object is not subscriptable",
     "output_type": "error",
     "traceback": [
      "\u001b[1;31m---------------------------------------------------------------------------\u001b[0m",
      "\u001b[1;31mTypeError\u001b[0m                                 Traceback (most recent call last)",
      "Cell \u001b[1;32mIn[22], line 1\u001b[0m\n\u001b[1;32m----> 1\u001b[0m s3[\u001b[38;5;241m2\u001b[39m]\n",
      "\u001b[1;31mTypeError\u001b[0m: 'set' object is not subscriptable"
     ]
    }
   ],
   "source": [
    "s3[2]"
   ]
  },
  {
   "cell_type": "markdown",
   "id": "a1b1a84a-6ffb-4ad6-bbb0-33910135f32e",
   "metadata": {},
   "source": [
    "#SET Membership"
   ]
  },
  {
   "cell_type": "code",
   "execution_count": 23,
   "id": "c5fa9af4-c131-4847-9855-5dfac94487c7",
   "metadata": {},
   "outputs": [
    {
     "data": {
      "text/plain": [
       "{12, 23, 34, 48, 86, 90, 'Test'}"
      ]
     },
     "execution_count": 23,
     "metadata": {},
     "output_type": "execute_result"
    }
   ],
   "source": [
    "s3\n"
   ]
  },
  {
   "cell_type": "code",
   "execution_count": 24,
   "id": "fcf51f9b-00c9-4e05-9a6b-911c4d4218e7",
   "metadata": {},
   "outputs": [
    {
     "data": {
      "text/plain": [
       "True"
      ]
     },
     "execution_count": 24,
     "metadata": {},
     "output_type": "execute_result"
    }
   ],
   "source": [
    "'Test' in s3"
   ]
  },
  {
   "cell_type": "markdown",
   "id": "e5d3d4c0-e60e-46b5-a5c3-80fe1159a3d5",
   "metadata": {},
   "source": [
    "set operation"
   ]
  },
  {
   "cell_type": "code",
   "execution_count": 25,
   "id": "a593e2ca-78f6-43b5-b814-91f86080d24a",
   "metadata": {},
   "outputs": [],
   "source": [
    "a={3,4,5,6,7,8,9,}\n",
    "b={5,6,7,8,1,2}\n",
    "c = {8,9,10}\n"
   ]
  },
  {
   "cell_type": "code",
   "execution_count": 26,
   "id": "6139932b-5e19-45e4-8536-b2f69a3f6aff",
   "metadata": {},
   "outputs": [
    {
     "data": {
      "text/plain": [
       "{1, 2, 3, 4, 5, 6, 7, 8, 9}"
      ]
     },
     "execution_count": 26,
     "metadata": {},
     "output_type": "execute_result"
    }
   ],
   "source": [
    "a.union(b)"
   ]
  },
  {
   "cell_type": "code",
   "execution_count": 27,
   "id": "0e6e50e7-1cf0-4dca-98b8-83fec9cda0d5",
   "metadata": {},
   "outputs": [
    {
     "data": {
      "text/plain": [
       "{3, 4, 5, 6, 7, 8, 9, 10}"
      ]
     },
     "execution_count": 27,
     "metadata": {},
     "output_type": "execute_result"
    }
   ],
   "source": [
    "a.union(c)"
   ]
  },
  {
   "cell_type": "code",
   "execution_count": 28,
   "id": "31bb7b55-9018-450f-ac9c-049974ec4081",
   "metadata": {},
   "outputs": [
    {
     "data": {
      "text/plain": [
       "{1, 2, 5, 6, 7, 8, 9, 10}"
      ]
     },
     "execution_count": 28,
     "metadata": {},
     "output_type": "execute_result"
    }
   ],
   "source": [
    "b.union(c)"
   ]
  },
  {
   "cell_type": "code",
   "execution_count": 29,
   "id": "ce7e8e2d-da5e-4e9e-89cf-69d98d9790b9",
   "metadata": {},
   "outputs": [
    {
     "data": {
      "text/plain": [
       "{1, 2, 3, 4, 5, 6, 7, 8, 9, 10}"
      ]
     },
     "execution_count": 29,
     "metadata": {},
     "output_type": "execute_result"
    }
   ],
   "source": [
    "a|b|c  #set Union symbol |"
   ]
  },
  {
   "cell_type": "code",
   "execution_count": 30,
   "id": "010ef37b-67f4-4072-a901-8841e5f80ad0",
   "metadata": {},
   "outputs": [
    {
     "data": {
      "text/plain": [
       "{5, 6, 7, 8}"
      ]
     },
     "execution_count": 30,
     "metadata": {},
     "output_type": "execute_result"
    }
   ],
   "source": [
    "a.intersection(b)"
   ]
  },
  {
   "cell_type": "code",
   "execution_count": 31,
   "id": "71a15e18-347d-44d2-be0c-389a76c11201",
   "metadata": {},
   "outputs": [
    {
     "data": {
      "text/plain": [
       "{5, 6, 7, 8}"
      ]
     },
     "execution_count": 31,
     "metadata": {},
     "output_type": "execute_result"
    }
   ],
   "source": [
    "a.intersection_update(b)\n",
    "a"
   ]
  },
  {
   "cell_type": "code",
   "execution_count": 32,
   "id": "fa22d7e0-2256-4d1f-9efa-a9b90df0b5e3",
   "metadata": {},
   "outputs": [],
   "source": [
    "a={3,4,5,6,7,8,9,}\n",
    "b={5,6,7,8,1,2}\n",
    "c = {8,9,10}"
   ]
  },
  {
   "cell_type": "code",
   "execution_count": 33,
   "id": "2c76bde1-7297-49ee-ba34-6ceaab180db0",
   "metadata": {},
   "outputs": [
    {
     "data": {
      "text/plain": [
       "{3, 4, 9}"
      ]
     },
     "execution_count": 33,
     "metadata": {},
     "output_type": "execute_result"
    }
   ],
   "source": [
    "a.difference(b)  # diffrence will give unique elements of b when a-b "
   ]
  },
  {
   "cell_type": "code",
   "execution_count": 34,
   "id": "706c8f4d-9725-49d6-9865-0c1584b5aaa4",
   "metadata": {},
   "outputs": [
    {
     "data": {
      "text/plain": [
       "{3, 4, 9}"
      ]
     },
     "execution_count": 34,
     "metadata": {},
     "output_type": "execute_result"
    }
   ],
   "source": [
    "a-b  # (-) is difference operator here\n"
   ]
  },
  {
   "cell_type": "code",
   "execution_count": 35,
   "id": "6906badb-216b-41bc-ba6a-7e873dba6877",
   "metadata": {},
   "outputs": [
    {
     "data": {
      "text/plain": [
       "{1, 2, 3, 4, 9}"
      ]
     },
     "execution_count": 35,
     "metadata": {},
     "output_type": "execute_result"
    }
   ],
   "source": [
    "a^b # ^ is used for to represent symmetric diffrence we can use function as well"
   ]
  },
  {
   "cell_type": "code",
   "execution_count": 36,
   "id": "628da1fa-8625-45af-bee2-ff5d4cbe3503",
   "metadata": {},
   "outputs": [
    {
     "data": {
      "text/plain": [
       "{1, 2, 3, 4, 9}"
      ]
     },
     "execution_count": 36,
     "metadata": {},
     "output_type": "execute_result"
    }
   ],
   "source": [
    "a.symmetric_difference(b) # we can use ^ symbol also a^B "
   ]
  },
  {
   "cell_type": "code",
   "execution_count": 37,
   "id": "0fd10621-e5b2-4dcd-8c3f-5357beea4ec7",
   "metadata": {},
   "outputs": [
    {
     "data": {
      "text/plain": [
       "{1, 2, 3, 4, 9}"
      ]
     },
     "execution_count": 37,
     "metadata": {},
     "output_type": "execute_result"
    }
   ],
   "source": [
    "a.symmetric_difference_update(b) // it will update symmetric diffrence to a.\n",
    "a"
   ]
  },
  {
   "cell_type": "markdown",
   "id": "959ccc76-2fb7-4201-b9e2-482bf36d51e1",
   "metadata": {},
   "source": [
    "superset, subset, disjoint¶"
   ]
  },
  {
   "cell_type": "code",
   "execution_count": 38,
   "id": "f9689c3f-4cbf-47aa-9c1a-b5b4a3db84d8",
   "metadata": {},
   "outputs": [],
   "source": [
    "s4 = {1,2,3,4,5,6,7,8,9}\n",
    "s5 = {3,4,5,6,7,8}\n",
    "s6 = {10,20,30,40}"
   ]
  },
  {
   "cell_type": "code",
   "execution_count": 39,
   "id": "b6618127-f306-4272-ab7f-47340c89d7fa",
   "metadata": {},
   "outputs": [
    {
     "data": {
      "text/plain": [
       "True"
      ]
     },
     "execution_count": 39,
     "metadata": {},
     "output_type": "execute_result"
    }
   ],
   "source": [
    "s4.issuperset(s5) "
   ]
  },
  {
   "cell_type": "code",
   "execution_count": 40,
   "id": "e3f558a9-cf68-4457-bdbc-ba375a9187c5",
   "metadata": {},
   "outputs": [
    {
     "data": {
      "text/plain": [
       "True"
      ]
     },
     "execution_count": 40,
     "metadata": {},
     "output_type": "execute_result"
    }
   ],
   "source": [
    "s5.issubset(s4)"
   ]
  },
  {
   "cell_type": "code",
   "execution_count": 41,
   "id": "b42b36b4-44f8-4154-ba76-9e2bfdae4f06",
   "metadata": {},
   "outputs": [
    {
     "data": {
      "text/plain": [
       "True"
      ]
     },
     "execution_count": 41,
     "metadata": {},
     "output_type": "execute_result"
    }
   ],
   "source": [
    "s6.isdisjoint(s4) #disjoint means no relation"
   ]
  },
  {
   "cell_type": "markdown",
   "id": "954f8acf-bbbb-4690-853e-1ed9852f463d",
   "metadata": {},
   "source": [
    "Dictionary¶"
   ]
  },
  {
   "cell_type": "code",
   "execution_count": 42,
   "id": "8840dfbd-2f72-44ae-87dc-34d3eff8bdf2",
   "metadata": {},
   "outputs": [
    {
     "data": {
      "text/plain": [
       "{}"
      ]
     },
     "execution_count": 42,
     "metadata": {},
     "output_type": "execute_result"
    }
   ],
   "source": [
    "d = {}\n",
    "d"
   ]
  },
  {
   "cell_type": "code",
   "execution_count": 43,
   "id": "bef365bb-69d7-4f6d-b2f6-bb30c0d3272b",
   "metadata": {},
   "outputs": [
    {
     "data": {
      "text/plain": [
       "dict"
      ]
     },
     "execution_count": 43,
     "metadata": {},
     "output_type": "execute_result"
    }
   ],
   "source": [
    "type(d)"
   ]
  },
  {
   "cell_type": "code",
   "execution_count": 44,
   "id": "dd077aa9-e99f-4774-9f62-dc40b9205e70",
   "metadata": {},
   "outputs": [
    {
     "data": {
      "text/plain": [
       "{1: 'one', 2: 'two', 3: 'three', 'four': 4, 'l': [1, 2, 3]}"
      ]
     },
     "execution_count": 44,
     "metadata": {},
     "output_type": "execute_result"
    }
   ],
   "source": [
    "d1 = {1 : 'one', 2: 'two', 3: 'three', 'four': 4, 'l' : [1,2,3]} \n",
    "d1"
   ]
  },
  {
   "cell_type": "code",
   "execution_count": 45,
   "id": "1fed4c9a-e46b-477d-b067-b97644e9568b",
   "metadata": {},
   "outputs": [],
   "source": [
    "\n",
    "d2 = d1.copy()"
   ]
  },
  {
   "cell_type": "code",
   "execution_count": 46,
   "id": "a5138907-03c9-4c29-b5be-6193d81789ff",
   "metadata": {},
   "outputs": [
    {
     "data": {
      "text/plain": [
       "{1: 'one', 2: 'two', 3: 'three', 'four': 4, 'l': [1, 2, 3]}"
      ]
     },
     "execution_count": 46,
     "metadata": {},
     "output_type": "execute_result"
    }
   ],
   "source": [
    "d2"
   ]
  },
  {
   "cell_type": "code",
   "execution_count": 47,
   "id": "38afae1f-f8ad-46d9-8dff-2bfb95e42a61",
   "metadata": {},
   "outputs": [
    {
     "data": {
      "text/plain": [
       "dict_items([(1, 'one'), (2, 'two'), (3, 'three'), ('four', 4), ('l', [1, 2, 3])])"
      ]
     },
     "execution_count": 47,
     "metadata": {},
     "output_type": "execute_result"
    }
   ],
   "source": [
    "d1.items()"
   ]
  },
  {
   "cell_type": "code",
   "execution_count": 48,
   "id": "c4e0584a-846d-4041-b30a-98fcc91be056",
   "metadata": {},
   "outputs": [
    {
     "data": {
      "text/plain": [
       "5"
      ]
     },
     "execution_count": 48,
     "metadata": {},
     "output_type": "execute_result"
    }
   ],
   "source": [
    "len(d1.items())"
   ]
  },
  {
   "cell_type": "code",
   "execution_count": 49,
   "id": "68c7ba55-5260-4576-921c-4a6a304b3586",
   "metadata": {},
   "outputs": [
    {
     "ename": "KeyError",
     "evalue": "slice(None, None, None)",
     "output_type": "error",
     "traceback": [
      "\u001b[1;31m---------------------------------------------------------------------------\u001b[0m",
      "\u001b[1;31mKeyError\u001b[0m                                  Traceback (most recent call last)",
      "Cell \u001b[1;32mIn[49], line 1\u001b[0m\n\u001b[1;32m----> 1\u001b[0m d1[:]\n",
      "\u001b[1;31mKeyError\u001b[0m: slice(None, None, None)"
     ]
    }
   ],
   "source": [
    "d1[:]"
   ]
  },
  {
   "cell_type": "code",
   "execution_count": 50,
   "id": "3ef28eab-8158-4bbf-b24b-24063fa3950b",
   "metadata": {},
   "outputs": [
    {
     "data": {
      "text/plain": [
       "4"
      ]
     },
     "execution_count": 50,
     "metadata": {},
     "output_type": "execute_result"
    }
   ],
   "source": [
    "d1['four']"
   ]
  },
  {
   "cell_type": "code",
   "execution_count": 51,
   "id": "64c51729-8f4c-4027-8fe9-14f23a8f1d4d",
   "metadata": {},
   "outputs": [
    {
     "data": {
      "text/plain": [
       "dict_keys([1, 2, 3, 'four', 'l'])"
      ]
     },
     "execution_count": 51,
     "metadata": {},
     "output_type": "execute_result"
    }
   ],
   "source": [
    "d1.keys()"
   ]
  },
  {
   "cell_type": "code",
   "execution_count": 52,
   "id": "8b6273de-7599-495e-80e4-3f980be74985",
   "metadata": {},
   "outputs": [
    {
     "data": {
      "text/plain": [
       "dict_values(['one', 'two', 'three', 4, [1, 2, 3]])"
      ]
     },
     "execution_count": 52,
     "metadata": {},
     "output_type": "execute_result"
    }
   ],
   "source": [
    "d1.values()"
   ]
  },
  {
   "cell_type": "code",
   "execution_count": 53,
   "id": "8c066527-0166-4efc-9f33-0e9235a73f9f",
   "metadata": {},
   "outputs": [
    {
     "data": {
      "text/plain": [
       "'one'"
      ]
     },
     "execution_count": 53,
     "metadata": {},
     "output_type": "execute_result"
    }
   ],
   "source": [
    "d1.pop(1)"
   ]
  },
  {
   "cell_type": "code",
   "execution_count": 54,
   "id": "2f735c5d-45fd-4555-9105-c2a81b6a83ca",
   "metadata": {},
   "outputs": [
    {
     "data": {
      "text/plain": [
       "False"
      ]
     },
     "execution_count": 54,
     "metadata": {},
     "output_type": "execute_result"
    }
   ],
   "source": [
    "100 in d1"
   ]
  },
  {
   "cell_type": "markdown",
   "id": "044ba856-e113-414a-8f18-21fb5c69dc50",
   "metadata": {},
   "source": [
    "Range"
   ]
  },
  {
   "cell_type": "code",
   "execution_count": 56,
   "id": "7b646850-0497-4b06-a917-0ed85c40547a",
   "metadata": {},
   "outputs": [
    {
     "data": {
      "text/plain": [
       "range(0, 10)"
      ]
     },
     "execution_count": 56,
     "metadata": {},
     "output_type": "execute_result"
    }
   ],
   "source": [
    "range(10)"
   ]
  },
  {
   "cell_type": "code",
   "execution_count": 57,
   "id": "394002b4-0f0f-4593-8f30-aa29f34c592a",
   "metadata": {},
   "outputs": [
    {
     "data": {
      "text/plain": [
       "range(10, 20)"
      ]
     },
     "execution_count": 57,
     "metadata": {},
     "output_type": "execute_result"
    }
   ],
   "source": [
    "range(10, 20) "
   ]
  },
  {
   "cell_type": "code",
   "execution_count": 58,
   "id": "3a6c4121-7b5a-441d-be24-d4bea6d4ad29",
   "metadata": {},
   "outputs": [
    {
     "data": {
      "text/plain": [
       "range(10, 20, 5)"
      ]
     },
     "execution_count": 58,
     "metadata": {},
     "output_type": "execute_result"
    }
   ],
   "source": [
    "range(10, 20, 5) "
   ]
  },
  {
   "cell_type": "code",
   "execution_count": 59,
   "id": "65122e88-ebd8-4d56-a57d-0a65eed8a2ff",
   "metadata": {},
   "outputs": [
    {
     "data": {
      "text/plain": [
       "[0, 1, 2, 3, 4, 5, 6, 7, 8, 9]"
      ]
     },
     "execution_count": 59,
     "metadata": {},
     "output_type": "execute_result"
    }
   ],
   "source": [
    "list(range(10))"
   ]
  },
  {
   "cell_type": "code",
   "execution_count": 60,
   "id": "3a17b3ec-1f14-41dd-b56b-8b4672471505",
   "metadata": {},
   "outputs": [
    {
     "data": {
      "text/plain": [
       "[10, 11, 12, 13, 14, 15, 16, 17, 18, 19]"
      ]
     },
     "execution_count": 60,
     "metadata": {},
     "output_type": "execute_result"
    }
   ],
   "source": [
    "list(range(10,20))"
   ]
  },
  {
   "cell_type": "code",
   "execution_count": 61,
   "id": "7f51a3c9-75d3-466d-87b3-474fe5751ba4",
   "metadata": {},
   "outputs": [
    {
     "data": {
      "text/plain": [
       "[10, 13, 16, 19]"
      ]
     },
     "execution_count": 61,
     "metadata": {},
     "output_type": "execute_result"
    }
   ],
   "source": [
    "list(range(10,20,3))"
   ]
  },
  {
   "cell_type": "code",
   "execution_count": 62,
   "id": "ae7c9c00-189b-427b-a412-fff288fcc16d",
   "metadata": {},
   "outputs": [
    {
     "data": {
      "text/plain": [
       "range(10, 20, 4)"
      ]
     },
     "execution_count": 62,
     "metadata": {},
     "output_type": "execute_result"
    }
   ],
   "source": [
    "r=range(10,20,4)\n",
    "r\n"
   ]
  },
  {
   "cell_type": "code",
   "execution_count": 63,
   "id": "57be99fc-a64e-40a2-bbc2-32835a5c0547",
   "metadata": {},
   "outputs": [
    {
     "name": "stdout",
     "output_type": "stream",
     "text": [
      "10\n",
      "14\n",
      "18\n"
     ]
    }
   ],
   "source": [
    "for i in r:\n",
    "    print(i)"
   ]
  },
  {
   "cell_type": "code",
   "execution_count": null,
   "id": "94a7b3a5-5a3b-471c-9e98-739159725399",
   "metadata": {},
   "outputs": [],
   "source": []
  }
 ],
 "metadata": {
  "kernelspec": {
   "display_name": "Python 3 (ipykernel)",
   "language": "python",
   "name": "python3"
  },
  "language_info": {
   "codemirror_mode": {
    "name": "ipython",
    "version": 3
   },
   "file_extension": ".py",
   "mimetype": "text/x-python",
   "name": "python",
   "nbconvert_exporter": "python",
   "pygments_lexer": "ipython3",
   "version": "3.13.5"
  }
 },
 "nbformat": 4,
 "nbformat_minor": 5
}
